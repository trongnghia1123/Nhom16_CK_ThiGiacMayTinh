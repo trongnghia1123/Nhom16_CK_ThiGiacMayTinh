{
 "cells": [
  {
   "cell_type": "markdown",
   "id": "86c8b6fb",
   "metadata": {},
   "source": [
    "# Import thư viện và thiết lập đường dẫn"
   ]
  },
  {
   "cell_type": "code",
   "execution_count": null,
   "id": "d9a466af",
   "metadata": {},
   "outputs": [
    {
     "name": "stdout",
     "output_type": "stream",
     "text": [
      "Đã thiết lập đường dẫn và thư mục mô hình.\n"
     ]
    }
   ],
   "source": [
    "import os\n",
    "import yaml\n",
    "import glob\n",
    "import time\n",
    "import numpy as np\n",
    "import pandas as pd\n",
    "import matplotlib.pyplot as plt\n",
    "from PIL import Image\n",
    "import random\n",
    "import cv2\n",
    "from ultralytics import YOLO\n",
    "import torch\n",
    "\n",
    "base_dir = \"D:/Bi_data/21031271/ThiGiacMayTinh/Project_Cuoi_Ky/FB5/Data\"\n",
    "train_dir = os.path.join(base_dir, \"processed_images\")\n",
    "val_img_dir = os.path.join(base_dir, \"val_images\")\n",
    "test_img_dir = os.path.join(base_dir, \"test_images\")\n",
    "data_yaml = os.path.join(base_dir, \"data.yaml\")\n",
    "model_dir = os.path.join(base_dir, \"MODEL\")\n",
    "# Tạo thư mục lưu mô hình nếu chưa có\n",
    "os.makedirs(model_dir, exist_ok=True)\n",
    "print(\"Đã thiết lập đường dẫn và thư mục mô hình.\")"
   ]
  },
  {
   "cell_type": "code",
   "execution_count": null,
   "id": "ddd8da0f",
   "metadata": {},
   "outputs": [
    {
     "name": "stdout",
     "output_type": "stream",
     "text": [
      "Tất cả thư mục dữ liệu tồn tại và không rỗng.\n"
     ]
    }
   ],
   "source": [
    "# Kiểm tra thư mục dữ liệu\n",
    "for dir_path, name in [\n",
    "    (train_dir, \"Train images\"),\n",
    "    (val_img_dir, \"Validation images\"),\n",
    "    (test_img_dir, \"Test images\")\n",
    "]:\n",
    "    if not os.path.exists(dir_path):\n",
    "        raise FileNotFoundError(f\"{name} không tồn tại: {dir_path}\")\n",
    "    if not os.listdir(dir_path):\n",
    "        raise FileNotFoundError(f\"{name} rỗng: {dir_path}\")\n",
    "print(\"Tất cả thư mục dữ liệu tồn tại và không rỗng.\")"
   ]
  },
  {
   "cell_type": "code",
   "execution_count": null,
   "id": "66a783ed",
   "metadata": {},
   "outputs": [
    {
     "name": "stdout",
     "output_type": "stream",
     "text": [
      "path: Hợp lệ (D:/Bi_data/21031271/ThiGiacMayTinh/Project_Cuoi_Ky/FB5/Data)\n",
      "train: Hợp lệ (processed_images)\n",
      "val: Hợp lệ (val_images)\n",
      "test: Hợp lệ (test_images)\n",
      "nc: Hợp lệ (2)\n",
      "names: Hợp lệ (['face', 'mask'])\n"
     ]
    }
   ],
   "source": [
    "# Kiểm tra file data.yaml\n",
    "if not os.path.exists(data_yaml):\n",
    "    raise FileNotFoundError(f\"File data.yaml không tồn tại: {data_yaml}\")\n",
    "\n",
    "with open(data_yaml, 'r') as f:\n",
    "    data_config = yaml.safe_load(f)\n",
    "\n",
    "expected_config = {\n",
    "    'path': base_dir,\n",
    "    'train': 'processed_images',\n",
    "    'val': 'val_images',\n",
    "    'test': 'test_images',\n",
    "    'nc': 2,\n",
    "    'names': ['face', 'mask']\n",
    "}\n",
    "for key, value in expected_config.items():\n",
    "    if data_config.get(key) != value:\n",
    "        print(f\"Cảnh báo: data.yaml có cấu hình không đúng cho {key}. Thực tế: {data_config.get(key)}, Kỳ vọng: {value}\")\n",
    "    else:\n",
    "        print(f\"{key}: Hợp lệ ({value})\")"
   ]
  },
  {
   "cell_type": "code",
   "execution_count": null,
   "id": "56dc2d60",
   "metadata": {},
   "outputs": [
    {
     "name": "stdout",
     "output_type": "stream",
     "text": [
      "Kiểm tra dữ liệu:\n",
      "- Train images: 5984\n",
      "- Train labels: 5984\n",
      "- Validation images: 1282\n",
      "- Validation labels: 1282\n",
      "- Test images: 1283\n",
      "- Test labels: 1283\n",
      "\n",
      "Cân bằng dữ liệu:\n",
      "- Train: 2856 ảnh có khẩu trang, 3128 ảnh không khẩu trang\n",
      "- Validation: 597 ảnh có khẩu trang, 685 ảnh không khẩu trang\n",
      "- Test: 643 ảnh có khẩu trang, 640 ảnh không khẩu trang\n",
      "\n",
      "Tất cả file khớp hoàn toàn.\n"
     ]
    }
   ],
   "source": [
    "# Kiểm tra số lượng file và tính khớp nhau\n",
    "train_images = [f for f in os.listdir(train_dir) if f.endswith('.png')]\n",
    "train_labels = [f for f in os.listdir(train_dir) if f.endswith('.txt')]\n",
    "val_images = [f for f in os.listdir(val_img_dir) if f.endswith('.png')]\n",
    "val_labels = [f for f in os.listdir(val_img_dir) if f.endswith('.txt')]\n",
    "test_images = [f for f in os.listdir(test_img_dir) if f.endswith('.png')]\n",
    "test_labels = [f for f in os.listdir(test_img_dir) if f.endswith('.txt')]\n",
    "\n",
    "print(\"Kiểm tra dữ liệu:\")\n",
    "print(f\"- Train images: {len(train_images)}\")\n",
    "print(f\"- Train labels: {len(train_labels)}\")\n",
    "print(f\"- Validation images: {len(val_images)}\")\n",
    "print(f\"- Validation labels: {len(val_labels)}\")\n",
    "print(f\"- Test images: {len(test_images)}\")\n",
    "print(f\"- Test labels: {len(test_labels)}\")\n",
    "\n",
    "# Kiểm tra cân bằng dữ liệu (đếm ảnh có/không khẩu trang)\n",
    "def count_mask_images(img_dir, labels):\n",
    "    mask_count = 0\n",
    "    no_mask_count = 0\n",
    "    for label in labels:\n",
    "        with open(os.path.join(img_dir, label), 'r') as f:\n",
    "            lines = f.readlines()\n",
    "            has_mask = any(line.startswith('1') for line in lines)\n",
    "            if has_mask:\n",
    "                mask_count += 1\n",
    "            else:\n",
    "                no_mask_count += 1\n",
    "    return mask_count, no_mask_count\n",
    "\n",
    "train_mask, train_no_mask = count_mask_images(train_dir, train_labels)\n",
    "val_mask, val_no_mask = count_mask_images(val_img_dir, val_labels)\n",
    "test_mask, test_no_mask = count_mask_images(test_img_dir, test_labels)\n",
    "\n",
    "print(\"\\nCân bằng dữ liệu:\")\n",
    "print(f\"- Train: {train_mask} ảnh có khẩu trang, {train_no_mask} ảnh không khẩu trang\")\n",
    "print(f\"- Validation: {val_mask} ảnh có khẩu trang, {val_no_mask} ảnh không khẩu trang\")\n",
    "print(f\"- Test: {test_mask} ảnh có khẩu trang, {test_no_mask} ảnh không khẩu trang\")\n",
    "\n",
    "# Kiểm tra file không khớp\n",
    "def check_matching(img_dir, name):\n",
    "    images = [f for f in os.listdir(img_dir) if f.endswith('.png')]\n",
    "    labels = [f for f in os.listdir(img_dir) if f.endswith('.txt')]\n",
    "    label_names = [f.replace('.txt', '') for f in labels]\n",
    "    \n",
    "    missing_labels = [img for img in images if img.replace('.png', '') not in label_names]\n",
    "    missing_images = [label for label in labels if not os.path.exists(os.path.join(img_dir, label.replace('.txt', '.png')))]\n",
    "    \n",
    "    return missing_labels, missing_images\n",
    "\n",
    "train_missing_labels, train_missing_images = check_matching(train_dir, \"Train\")\n",
    "val_missing_labels, val_missing_images = check_matching(val_img_dir, \"Validation\")\n",
    "test_missing_labels, test_missing_images = check_matching(test_img_dir, \"Test\")\n",
    "\n",
    "if any([train_missing_labels, train_missing_images, val_missing_labels, val_missing_images, test_missing_labels, test_missing_images]):\n",
    "    print(\"\\nFile không khớp:\")\n",
    "    for split, missing_labels, missing_images in [\n",
    "        (\"Train\", train_missing_labels, train_missing_images),\n",
    "        (\"Validation\", val_missing_labels, val_missing_images),\n",
    "        (\"Test\", test_missing_labels, test_missing_images)\n",
    "    ]:\n",
    "        if missing_labels:\n",
    "            print(f\"{split} - Ảnh không có nhãn:\")\n",
    "            for img in missing_labels:\n",
    "                print(f\"- {img}\")\n",
    "        if missing_images:\n",
    "            print(f\"{split} - Nhãn không có ảnh:\")\n",
    "            for label in missing_images:\n",
    "                print(f\"- {label}\")\n",
    "    \n",
    "    delete_files = input(\"\\nBạn có muốn xóa các file không khớp? (y/n): \").lower() == 'y'\n",
    "    if delete_files:\n",
    "        for img in train_missing_labels:\n",
    "            os.remove(os.path.join(train_dir, img))\n",
    "            print(f\"Đã xóa: {img}\")\n",
    "        for label in train_missing_images:\n",
    "            os.remove(os.path.join(train_dir, label))\n",
    "            print(f\"Đã xóa: {label}\")\n",
    "        for img in val_missing_labels:\n",
    "            os.remove(os.path.join(val_img_dir, img))\n",
    "            print(f\"Đã xóa: {img}\")\n",
    "        for label in val_missing_images:\n",
    "            os.remove(os.path.join(val_img_dir, label))\n",
    "            print(f\"Đã xóa: {label}\")\n",
    "        for img in test_missing_labels:\n",
    "            os.remove(os.path.join(test_img_dir, img))\n",
    "            print(f\"Đã xóa: {img}\")\n",
    "        for label in test_missing_images:\n",
    "            os.remove(os.path.join(test_img_dir, label))\n",
    "            print(f\"Đã xóa: {label}\")\n",
    "        \n",
    "        # Cập nhật danh sách\n",
    "        train_images = [f for f in os.listdir(train_dir) if f.endswith('.png')]\n",
    "        train_labels = [f for f in os.listdir(train_dir) if f.endswith('.txt')]\n",
    "        val_images = [f for f in os.listdir(val_img_dir) if f.endswith('.png')]\n",
    "        val_labels = [f for f in os.listdir(val_img_dir) if f.endswith('.txt')]\n",
    "        test_images = [f for f in os.listdir(test_img_dir) if f.endswith('.png')]\n",
    "        test_labels = [f for f in os.listdir(test_img_dir) if f.endswith('.txt')]\n",
    "        print(\"\\nDanh sách sau khi xóa:\")\n",
    "        print(f\"- Train images: {len(train_images)}\")\n",
    "        print(f\"- Train labels: {len(train_labels)}\")\n",
    "        print(f\"- Validation images: {len(val_images)}\")\n",
    "        print(f\"- Validation labels: {len(val_labels)}\")\n",
    "        print(f\"- Test images: {len(test_images)}\")\n",
    "        print(f\"- Test labels: {len(test_labels)}\")\n",
    "else:\n",
    "    print(\"\\nTất cả file khớp hoàn toàn.\")"
   ]
  },
  {
   "cell_type": "code",
   "execution_count": null,
   "id": "9e21c829",
   "metadata": {},
   "outputs": [
    {
     "name": "stdout",
     "output_type": "stream",
     "text": [
      "\n",
      "Kiểm tra nội dung 5 file nhãn trong Train:\n",
      "- mask_1000_empty.txt: Hợp lệ\n",
      "- mask_1001_cloth.txt: Hợp lệ\n",
      "- mask_1004_inpaint.txt: Hợp lệ\n",
      "- mask_1007_surgical.txt: Hợp lệ\n",
      "- mask_1008_KN95.txt: Hợp lệ\n",
      "\n",
      "Kiểm tra nội dung 5 file nhãn trong Validation:\n",
      "- mask_1006_cloth.txt: Hợp lệ\n",
      "- mask_1009_surgical_green.txt: Hợp lệ\n",
      "- mask_1021_gas.txt: Hợp lệ\n",
      "- mask_1023_gas.txt: Hợp lệ\n",
      "- mask_1025_empty.txt: Hợp lệ\n",
      "\n",
      "Kiểm tra nội dung 5 file nhãn trong Test:\n",
      "- mask_1005_KN95.txt: Hợp lệ\n",
      "- mask_1010_empty.txt: Hợp lệ\n",
      "- mask_1050_surgical.txt: Hợp lệ\n",
      "- mask_1053_gas.txt: Hợp lệ\n",
      "- mask_1056_cloth.txt: Hợp lệ\n"
     ]
    }
   ],
   "source": [
    "# Kiểm tra tính hợp lệ của nhãn\n",
    "def check_label_content(img_dir, name, num_samples=5):\n",
    "    label_files = [f for f in os.listdir(img_dir) if f.endswith('.txt')]\n",
    "    print(f\"\\nKiểm tra nội dung {num_samples} file nhãn trong {name}:\")\n",
    "    for label_file in label_files[:num_samples]:\n",
    "        with open(os.path.join(img_dir, label_file), 'r') as f:\n",
    "            content = f.read().strip()\n",
    "            if not content:\n",
    "                print(f\"- {label_file}: File rỗng!\")\n",
    "                continue\n",
    "            lines = content.split('\\n')\n",
    "            valid = True\n",
    "            for line in lines:\n",
    "                parts = line.strip().split()\n",
    "                if len(parts) != 5:\n",
    "                    print(f\"- {label_file}: Dòng không đúng định dạng: {line}\")\n",
    "                    valid = False\n",
    "                    continue\n",
    "                try:\n",
    "                    class_id, x, y, w, h = map(float, parts)\n",
    "                    if not (0 <= class_id <= 1) or not (0 <= x <= 1) or not (0 <= y <= 1) or not (0 <= w <= 1) or not (0 <= h <= 1):\n",
    "                        print(f\"- {label_file}: Giá trị ngoài khoảng [0, 1]: {line}\")\n",
    "                        valid = False\n",
    "                except ValueError:\n",
    "                    print(f\"- {label_file}: Giá trị không hợp lệ: {line}\")\n",
    "                    valid = False\n",
    "            if valid:\n",
    "                print(f\"- {label_file}: Hợp lệ\")\n",
    "\n",
    "check_label_content(train_dir, \"Train\")\n",
    "check_label_content(val_img_dir, \"Validation\")\n",
    "check_label_content(test_img_dir, \"Test\")"
   ]
  },
  {
   "cell_type": "code",
   "execution_count": null,
   "id": "faff99b9",
   "metadata": {},
   "outputs": [],
   "source": [
    "# Xóa cache dataset\n",
    "cache_files = glob.glob(os.path.join(base_dir, \"*.cache\"))\n",
    "for cache_file in cache_files:\n",
    "    try:\n",
    "        os.remove(cache_file)\n",
    "        print(f\"Đã xóa cache: {cache_file}\")\n",
    "    except Exception as e:\n",
    "        print(f\"Lỗi khi xóa cache {cache_file}: {e}\")"
   ]
  },
  {
   "cell_type": "markdown",
   "id": "e0069f4d",
   "metadata": {},
   "source": [
    "# Kiểm tra GPU và khởi tạo mô hình"
   ]
  },
  {
   "cell_type": "code",
   "execution_count": null,
   "id": "cdce0cad",
   "metadata": {},
   "outputs": [
    {
     "name": "stdout",
     "output_type": "stream",
     "text": [
      "Không tìm thấy GPU, sử dụng CPU.\n",
      "Downloading https://github.com/ultralytics/assets/releases/download/v8.3.0/yolov8n.pt to 'yolov8n.pt'...\n"
     ]
    },
    {
     "name": "stderr",
     "output_type": "stream",
     "text": [
      "100%|██████████| 6.25M/6.25M [00:02<00:00, 2.59MB/s]\n"
     ]
    },
    {
     "name": "stdout",
     "output_type": "stream",
     "text": [
      "New https://pypi.org/project/ultralytics/8.3.144 available  Update with 'pip install -U ultralytics'\n",
      "Ultralytics 8.3.128  Python-3.12.3 torch-2.5.1+cpu CPU (12th Gen Intel Core(TM) i5-12500H)\n",
      "\u001b[34m\u001b[1mengine\\trainer: \u001b[0magnostic_nms=False, amp=True, augment=False, auto_augment=randaugment, batch=32, bgr=0.0, box=7.5, cache=False, cfg=None, classes=None, close_mosaic=10, cls=0.5, conf=None, copy_paste=0.0, copy_paste_mode=flip, cos_lr=False, cutmix=0.0, data=D:/Bi_data/21031271/ThiGiacMayTinh/Project_Cuoi_Ky/FB5/Data\\data.yaml, degrees=10.0, deterministic=True, device=cpu, dfl=1.5, dnn=False, dropout=0.0, dynamic=False, embed=None, epochs=100, erasing=0.4, exist_ok=False, fliplr=0.5, flipud=0.5, format=torchscript, fraction=1.0, freeze=None, half=False, hsv_h=0.015, hsv_s=0.7, hsv_v=0.4, imgsz=256, int8=False, iou=0.7, keras=False, kobj=1.0, line_width=None, lr0=0.01, lrf=0.1, mask_ratio=4, max_det=300, mixup=0.0, mode=train, model=yolov8n.pt, momentum=0.937, mosaic=1.0, multi_scale=False, name=yolo_face_mask, nbs=64, nms=False, opset=None, optimize=False, optimizer=AdamW, overlap_mask=True, patience=20, perspective=0.0, plots=True, pose=12.0, pretrained=True, profile=False, project=None, rect=False, resume=False, retina_masks=False, save=True, save_conf=False, save_crop=False, save_dir=runs\\detect\\yolo_face_mask, save_frames=False, save_json=False, save_period=-1, save_txt=False, scale=0.5, seed=0, shear=2.0, show=False, show_boxes=True, show_conf=True, show_labels=True, simplify=True, single_cls=False, source=None, split=val, stream_buffer=False, task=detect, time=None, tracker=botsort.yaml, translate=0.1, val=True, verbose=True, vid_stride=1, visualize=False, warmup_bias_lr=0.1, warmup_epochs=3.0, warmup_momentum=0.8, weight_decay=0.0005, workers=8, workspace=None\n",
      "Overriding model.yaml nc=80 with nc=2\n",
      "\n",
      "                   from  n    params  module                                       arguments                     \n",
      "  0                  -1  1       464  ultralytics.nn.modules.conv.Conv             [3, 16, 3, 2]                 \n",
      "  1                  -1  1      4672  ultralytics.nn.modules.conv.Conv             [16, 32, 3, 2]                \n",
      "  2                  -1  1      7360  ultralytics.nn.modules.block.C2f             [32, 32, 1, True]             \n",
      "  3                  -1  1     18560  ultralytics.nn.modules.conv.Conv             [32, 64, 3, 2]                \n",
      "  4                  -1  2     49664  ultralytics.nn.modules.block.C2f             [64, 64, 2, True]             \n",
      "  5                  -1  1     73984  ultralytics.nn.modules.conv.Conv             [64, 128, 3, 2]               \n",
      "  6                  -1  2    197632  ultralytics.nn.modules.block.C2f             [128, 128, 2, True]           \n",
      "  7                  -1  1    295424  ultralytics.nn.modules.conv.Conv             [128, 256, 3, 2]              \n",
      "  8                  -1  1    460288  ultralytics.nn.modules.block.C2f             [256, 256, 1, True]           \n",
      "  9                  -1  1    164608  ultralytics.nn.modules.block.SPPF            [256, 256, 5]                 \n",
      " 10                  -1  1         0  torch.nn.modules.upsampling.Upsample         [None, 2, 'nearest']          \n",
      " 11             [-1, 6]  1         0  ultralytics.nn.modules.conv.Concat           [1]                           \n",
      " 12                  -1  1    148224  ultralytics.nn.modules.block.C2f             [384, 128, 1]                 \n",
      " 13                  -1  1         0  torch.nn.modules.upsampling.Upsample         [None, 2, 'nearest']          \n",
      " 14             [-1, 4]  1         0  ultralytics.nn.modules.conv.Concat           [1]                           \n",
      " 15                  -1  1     37248  ultralytics.nn.modules.block.C2f             [192, 64, 1]                  \n",
      " 16                  -1  1     36992  ultralytics.nn.modules.conv.Conv             [64, 64, 3, 2]                \n",
      " 17            [-1, 12]  1         0  ultralytics.nn.modules.conv.Concat           [1]                           \n",
      " 18                  -1  1    123648  ultralytics.nn.modules.block.C2f             [192, 128, 1]                 \n",
      " 19                  -1  1    147712  ultralytics.nn.modules.conv.Conv             [128, 128, 3, 2]              \n",
      " 20             [-1, 9]  1         0  ultralytics.nn.modules.conv.Concat           [1]                           \n",
      " 21                  -1  1    493056  ultralytics.nn.modules.block.C2f             [384, 256, 1]                 \n",
      " 22        [15, 18, 21]  1    751702  ultralytics.nn.modules.head.Detect           [2, [64, 128, 256]]           \n",
      "Model summary: 129 layers, 3,011,238 parameters, 3,011,222 gradients, 8.2 GFLOPs\n",
      "\n",
      "Transferred 319/355 items from pretrained weights\n",
      "Freezing layer 'model.22.dfl.conv.weight'\n",
      "\u001b[34m\u001b[1mtrain: \u001b[0mFast image access  (ping: 0.00.0 ms, read: 4.41.1 MB/s, size: 51.8 KB)\n"
     ]
    },
    {
     "name": "stderr",
     "output_type": "stream",
     "text": [
      "\u001b[34m\u001b[1mtrain: \u001b[0mScanning D:\\Bi_data\\21031271\\ThiGiacMayTinh\\Project_Cuoi_Ky\\FB5\\Data\\processed_images... 5984 images, 0 backgrounds, 0 corrupt: 100%|██████████| 5984/5984 [00:12<00:00, 494.42it/s]\n"
     ]
    },
    {
     "name": "stdout",
     "output_type": "stream",
     "text": [
      "\u001b[34m\u001b[1mtrain: \u001b[0mNew cache created: D:\\Bi_data\\21031271\\ThiGiacMayTinh\\Project_Cuoi_Ky\\FB5\\Data\\processed_images.cache\n",
      "\u001b[34m\u001b[1mval: \u001b[0mFast image access  (ping: 0.00.0 ms, read: 3.60.7 MB/s, size: 47.9 KB)\n"
     ]
    },
    {
     "name": "stderr",
     "output_type": "stream",
     "text": [
      "\u001b[34m\u001b[1mval: \u001b[0mScanning D:\\Bi_data\\21031271\\ThiGiacMayTinh\\Project_Cuoi_Ky\\FB5\\Data\\val_images... 1282 images, 0 backgrounds, 0 corrupt: 100%|██████████| 1282/1282 [00:02<00:00, 474.82it/s]"
     ]
    },
    {
     "name": "stdout",
     "output_type": "stream",
     "text": [
      "\u001b[34m\u001b[1mval: \u001b[0mNew cache created: D:\\Bi_data\\21031271\\ThiGiacMayTinh\\Project_Cuoi_Ky\\FB5\\Data\\val_images.cache\n"
     ]
    },
    {
     "name": "stderr",
     "output_type": "stream",
     "text": [
      "\n"
     ]
    },
    {
     "name": "stdout",
     "output_type": "stream",
     "text": [
      "Plotting labels to runs\\detect\\yolo_face_mask\\labels.jpg... \n",
      "\u001b[34m\u001b[1moptimizer:\u001b[0m AdamW(lr=0.01, momentum=0.937) with parameter groups 57 weight(decay=0.0), 64 weight(decay=0.0005), 63 bias(decay=0.0)\n",
      "Image sizes 256 train, 256 val\n",
      "Using 0 dataloader workers\n",
      "Logging results to \u001b[1mruns\\detect\\yolo_face_mask\u001b[0m\n",
      "Starting training for 100 epochs...\n",
      "\n",
      "      Epoch    GPU_mem   box_loss   cls_loss   dfl_loss  Instances       Size\n"
     ]
    },
    {
     "name": "stderr",
     "output_type": "stream",
     "text": [
      "      1/100         0G      1.275      1.148      1.404        114        256: 100%|██████████| 187/187 [03:48<00:00,  1.22s/it]\n",
      "                 Class     Images  Instances      Box(P          R      mAP50  mAP50-95): 100%|██████████| 21/21 [00:20<00:00,  1.02it/s]"
     ]
    },
    {
     "name": "stdout",
     "output_type": "stream",
     "text": [
      "                   all       1282       1879      0.511      0.804       0.59      0.276\n"
     ]
    },
    {
     "name": "stderr",
     "output_type": "stream",
     "text": [
      "\n"
     ]
    },
    {
     "name": "stdout",
     "output_type": "stream",
     "text": [
      "\n",
      "      Epoch    GPU_mem   box_loss   cls_loss   dfl_loss  Instances       Size\n"
     ]
    },
    {
     "name": "stderr",
     "output_type": "stream",
     "text": [
      "      2/100         0G      1.147     0.7786      1.308        119        256: 100%|██████████| 187/187 [03:44<00:00,  1.20s/it]\n",
      "                 Class     Images  Instances      Box(P          R      mAP50  mAP50-95): 100%|██████████| 21/21 [00:19<00:00,  1.05it/s]"
     ]
    },
    {
     "name": "stdout",
     "output_type": "stream",
     "text": [
      "                   all       1282       1879      0.967      0.882      0.914      0.676\n"
     ]
    },
    {
     "name": "stderr",
     "output_type": "stream",
     "text": [
      "\n"
     ]
    },
    {
     "name": "stdout",
     "output_type": "stream",
     "text": [
      "\n",
      "      Epoch    GPU_mem   box_loss   cls_loss   dfl_loss  Instances       Size\n"
     ]
    },
    {
     "name": "stderr",
     "output_type": "stream",
     "text": [
      "      3/100         0G      1.011     0.6588      1.231        111        256: 100%|██████████| 187/187 [03:41<00:00,  1.18s/it]\n",
      "                 Class     Images  Instances      Box(P          R      mAP50  mAP50-95): 100%|██████████| 21/21 [00:19<00:00,  1.05it/s]"
     ]
    },
    {
     "name": "stdout",
     "output_type": "stream",
     "text": [
      "                   all       1282       1879      0.968      0.982      0.992       0.79\n"
     ]
    },
    {
     "name": "stderr",
     "output_type": "stream",
     "text": [
      "\n"
     ]
    },
    {
     "name": "stdout",
     "output_type": "stream",
     "text": [
      "\n",
      "      Epoch    GPU_mem   box_loss   cls_loss   dfl_loss  Instances       Size\n"
     ]
    },
    {
     "name": "stderr",
     "output_type": "stream",
     "text": [
      "      4/100         0G      0.982     0.6301      1.218        132        256: 100%|██████████| 187/187 [03:40<00:00,  1.18s/it]\n",
      "                 Class     Images  Instances      Box(P          R      mAP50  mAP50-95): 100%|██████████| 21/21 [00:19<00:00,  1.06it/s]"
     ]
    },
    {
     "name": "stdout",
     "output_type": "stream",
     "text": [
      "                   all       1282       1879      0.983      0.984      0.989      0.802\n"
     ]
    },
    {
     "name": "stderr",
     "output_type": "stream",
     "text": [
      "\n"
     ]
    },
    {
     "name": "stdout",
     "output_type": "stream",
     "text": [
      "\n",
      "      Epoch    GPU_mem   box_loss   cls_loss   dfl_loss  Instances       Size\n"
     ]
    },
    {
     "name": "stderr",
     "output_type": "stream",
     "text": [
      "      5/100         0G      0.907     0.5728      1.179        146        256: 100%|██████████| 187/187 [03:40<00:00,  1.18s/it]\n",
      "                 Class     Images  Instances      Box(P          R      mAP50  mAP50-95): 100%|██████████| 21/21 [00:19<00:00,  1.05it/s]"
     ]
    },
    {
     "name": "stdout",
     "output_type": "stream",
     "text": [
      "                   all       1282       1879       0.97      0.983      0.993      0.828\n"
     ]
    },
    {
     "name": "stderr",
     "output_type": "stream",
     "text": [
      "\n"
     ]
    },
    {
     "name": "stdout",
     "output_type": "stream",
     "text": [
      "\n",
      "      Epoch    GPU_mem   box_loss   cls_loss   dfl_loss  Instances       Size\n"
     ]
    },
    {
     "name": "stderr",
     "output_type": "stream",
     "text": [
      "      6/100         0G     0.8704     0.5482      1.161        136        256: 100%|██████████| 187/187 [03:41<00:00,  1.18s/it]\n",
      "                 Class     Images  Instances      Box(P          R      mAP50  mAP50-95): 100%|██████████| 21/21 [00:19<00:00,  1.08it/s]"
     ]
    },
    {
     "name": "stdout",
     "output_type": "stream",
     "text": [
      "                   all       1282       1879      0.993      0.994      0.994      0.846\n"
     ]
    },
    {
     "name": "stderr",
     "output_type": "stream",
     "text": [
      "\n"
     ]
    },
    {
     "name": "stdout",
     "output_type": "stream",
     "text": [
      "\n",
      "      Epoch    GPU_mem   box_loss   cls_loss   dfl_loss  Instances       Size\n"
     ]
    },
    {
     "name": "stderr",
     "output_type": "stream",
     "text": [
      "      7/100         0G     0.8455     0.5241      1.143        123        256: 100%|██████████| 187/187 [03:40<00:00,  1.18s/it]\n",
      "                 Class     Images  Instances      Box(P          R      mAP50  mAP50-95): 100%|██████████| 21/21 [00:19<00:00,  1.06it/s]"
     ]
    },
    {
     "name": "stdout",
     "output_type": "stream",
     "text": [
      "                   all       1282       1879      0.985      0.992      0.995      0.857\n"
     ]
    },
    {
     "name": "stderr",
     "output_type": "stream",
     "text": [
      "\n"
     ]
    },
    {
     "name": "stdout",
     "output_type": "stream",
     "text": [
      "\n",
      "      Epoch    GPU_mem   box_loss   cls_loss   dfl_loss  Instances       Size\n"
     ]
    },
    {
     "name": "stderr",
     "output_type": "stream",
     "text": [
      "      8/100         0G     0.8158     0.5044      1.139        116        256: 100%|██████████| 187/187 [03:39<00:00,  1.17s/it]\n",
      "                 Class     Images  Instances      Box(P          R      mAP50  mAP50-95): 100%|██████████| 21/21 [00:19<00:00,  1.06it/s]"
     ]
    },
    {
     "name": "stdout",
     "output_type": "stream",
     "text": [
      "                   all       1282       1879      0.991      0.994      0.994      0.855\n"
     ]
    },
    {
     "name": "stderr",
     "output_type": "stream",
     "text": [
      "\n"
     ]
    },
    {
     "name": "stdout",
     "output_type": "stream",
     "text": [
      "\n",
      "      Epoch    GPU_mem   box_loss   cls_loss   dfl_loss  Instances       Size\n"
     ]
    },
    {
     "name": "stderr",
     "output_type": "stream",
     "text": [
      "      9/100         0G     0.8009     0.4963      1.127        128        256: 100%|██████████| 187/187 [03:40<00:00,  1.18s/it]\n",
      "                 Class     Images  Instances      Box(P          R      mAP50  mAP50-95): 100%|██████████| 21/21 [00:19<00:00,  1.06it/s]"
     ]
    },
    {
     "name": "stdout",
     "output_type": "stream",
     "text": [
      "                   all       1282       1879       0.98      0.973      0.987      0.836\n"
     ]
    },
    {
     "name": "stderr",
     "output_type": "stream",
     "text": [
      "\n"
     ]
    },
    {
     "name": "stdout",
     "output_type": "stream",
     "text": [
      "\n",
      "      Epoch    GPU_mem   box_loss   cls_loss   dfl_loss  Instances       Size\n"
     ]
    },
    {
     "name": "stderr",
     "output_type": "stream",
     "text": [
      "     10/100         0G     0.7739     0.4811      1.114        121        256: 100%|██████████| 187/187 [03:39<00:00,  1.17s/it]\n",
      "                 Class     Images  Instances      Box(P          R      mAP50  mAP50-95): 100%|██████████| 21/21 [00:19<00:00,  1.06it/s]"
     ]
    },
    {
     "name": "stdout",
     "output_type": "stream",
     "text": [
      "                   all       1282       1879      0.981      0.979      0.988      0.834\n"
     ]
    },
    {
     "name": "stderr",
     "output_type": "stream",
     "text": [
      "\n"
     ]
    },
    {
     "name": "stdout",
     "output_type": "stream",
     "text": [
      "\n",
      "      Epoch    GPU_mem   box_loss   cls_loss   dfl_loss  Instances       Size\n"
     ]
    },
    {
     "name": "stderr",
     "output_type": "stream",
     "text": [
      "     11/100         0G     0.7591     0.4649      1.108        126        256: 100%|██████████| 187/187 [03:41<00:00,  1.19s/it]\n",
      "                 Class     Images  Instances      Box(P          R      mAP50  mAP50-95): 100%|██████████| 21/21 [00:19<00:00,  1.06it/s]"
     ]
    },
    {
     "name": "stdout",
     "output_type": "stream",
     "text": [
      "                   all       1282       1879      0.991      0.994      0.994      0.872\n"
     ]
    },
    {
     "name": "stderr",
     "output_type": "stream",
     "text": [
      "\n"
     ]
    },
    {
     "name": "stdout",
     "output_type": "stream",
     "text": [
      "\n",
      "      Epoch    GPU_mem   box_loss   cls_loss   dfl_loss  Instances       Size\n"
     ]
    },
    {
     "name": "stderr",
     "output_type": "stream",
     "text": [
      "     12/100         0G     0.7495     0.4539      1.104        130        256: 100%|██████████| 187/187 [03:40<00:00,  1.18s/it]\n",
      "                 Class     Images  Instances      Box(P          R      mAP50  mAP50-95): 100%|██████████| 21/21 [00:19<00:00,  1.06it/s]"
     ]
    },
    {
     "name": "stdout",
     "output_type": "stream",
     "text": [
      "                   all       1282       1879       0.99      0.994      0.995      0.857\n"
     ]
    },
    {
     "name": "stderr",
     "output_type": "stream",
     "text": [
      "\n"
     ]
    },
    {
     "name": "stdout",
     "output_type": "stream",
     "text": [
      "\n",
      "      Epoch    GPU_mem   box_loss   cls_loss   dfl_loss  Instances       Size\n"
     ]
    },
    {
     "name": "stderr",
     "output_type": "stream",
     "text": [
      "     13/100         0G     0.7366     0.4518      1.099        154        256: 100%|██████████| 187/187 [03:40<00:00,  1.18s/it]\n",
      "                 Class     Images  Instances      Box(P          R      mAP50  mAP50-95): 100%|██████████| 21/21 [00:19<00:00,  1.06it/s]"
     ]
    },
    {
     "name": "stdout",
     "output_type": "stream",
     "text": [
      "                   all       1282       1879      0.994      0.993      0.995       0.87\n"
     ]
    },
    {
     "name": "stderr",
     "output_type": "stream",
     "text": [
      "\n"
     ]
    },
    {
     "name": "stdout",
     "output_type": "stream",
     "text": [
      "\n",
      "      Epoch    GPU_mem   box_loss   cls_loss   dfl_loss  Instances       Size\n"
     ]
    },
    {
     "name": "stderr",
     "output_type": "stream",
     "text": [
      "     14/100         0G     0.7241     0.4457      1.093        122        256: 100%|██████████| 187/187 [03:40<00:00,  1.18s/it]\n",
      "                 Class     Images  Instances      Box(P          R      mAP50  mAP50-95): 100%|██████████| 21/21 [00:19<00:00,  1.06it/s]"
     ]
    },
    {
     "name": "stdout",
     "output_type": "stream",
     "text": [
      "                   all       1282       1879      0.994       0.96       0.97      0.848\n"
     ]
    },
    {
     "name": "stderr",
     "output_type": "stream",
     "text": [
      "\n"
     ]
    },
    {
     "name": "stdout",
     "output_type": "stream",
     "text": [
      "\n",
      "      Epoch    GPU_mem   box_loss   cls_loss   dfl_loss  Instances       Size\n"
     ]
    },
    {
     "name": "stderr",
     "output_type": "stream",
     "text": [
      "     15/100         0G     0.7214     0.4433      1.092        123        256: 100%|██████████| 187/187 [03:40<00:00,  1.18s/it]\n",
      "                 Class     Images  Instances      Box(P          R      mAP50  mAP50-95): 100%|██████████| 21/21 [00:19<00:00,  1.06it/s]"
     ]
    },
    {
     "name": "stdout",
     "output_type": "stream",
     "text": [
      "                   all       1282       1879       0.99      0.995      0.995      0.872\n"
     ]
    },
    {
     "name": "stderr",
     "output_type": "stream",
     "text": [
      "\n"
     ]
    },
    {
     "name": "stdout",
     "output_type": "stream",
     "text": [
      "\n",
      "      Epoch    GPU_mem   box_loss   cls_loss   dfl_loss  Instances       Size\n"
     ]
    },
    {
     "name": "stderr",
     "output_type": "stream",
     "text": [
      "     16/100         0G     0.7087     0.4343      1.085        128        256: 100%|██████████| 187/187 [03:39<00:00,  1.18s/it]\n",
      "                 Class     Images  Instances      Box(P          R      mAP50  mAP50-95): 100%|██████████| 21/21 [00:19<00:00,  1.07it/s]"
     ]
    },
    {
     "name": "stdout",
     "output_type": "stream",
     "text": [
      "                   all       1282       1879      0.989      0.995      0.995      0.876\n"
     ]
    },
    {
     "name": "stderr",
     "output_type": "stream",
     "text": [
      "\n"
     ]
    },
    {
     "name": "stdout",
     "output_type": "stream",
     "text": [
      "\n",
      "      Epoch    GPU_mem   box_loss   cls_loss   dfl_loss  Instances       Size\n"
     ]
    },
    {
     "name": "stderr",
     "output_type": "stream",
     "text": [
      "     17/100         0G     0.7108     0.4335      1.087        125        256: 100%|██████████| 187/187 [03:39<00:00,  1.17s/it]\n",
      "                 Class     Images  Instances      Box(P          R      mAP50  mAP50-95): 100%|██████████| 21/21 [00:19<00:00,  1.06it/s]"
     ]
    },
    {
     "name": "stdout",
     "output_type": "stream",
     "text": [
      "                   all       1282       1879      0.992      0.994      0.995       0.86\n"
     ]
    },
    {
     "name": "stderr",
     "output_type": "stream",
     "text": [
      "\n"
     ]
    },
    {
     "name": "stdout",
     "output_type": "stream",
     "text": [
      "\n",
      "      Epoch    GPU_mem   box_loss   cls_loss   dfl_loss  Instances       Size\n"
     ]
    },
    {
     "name": "stderr",
     "output_type": "stream",
     "text": [
      "     18/100         0G        0.7     0.4289      1.082        128        256: 100%|██████████| 187/187 [03:40<00:00,  1.18s/it]\n",
      "                 Class     Images  Instances      Box(P          R      mAP50  mAP50-95): 100%|██████████| 21/21 [00:19<00:00,  1.07it/s]"
     ]
    },
    {
     "name": "stdout",
     "output_type": "stream",
     "text": [
      "                   all       1282       1879      0.996      0.994      0.995       0.89\n"
     ]
    },
    {
     "name": "stderr",
     "output_type": "stream",
     "text": [
      "\n"
     ]
    },
    {
     "name": "stdout",
     "output_type": "stream",
     "text": [
      "\n",
      "      Epoch    GPU_mem   box_loss   cls_loss   dfl_loss  Instances       Size\n"
     ]
    },
    {
     "name": "stderr",
     "output_type": "stream",
     "text": [
      "     19/100         0G     0.6916     0.4227      1.076        117        256: 100%|██████████| 187/187 [03:40<00:00,  1.18s/it]\n",
      "                 Class     Images  Instances      Box(P          R      mAP50  mAP50-95): 100%|██████████| 21/21 [00:19<00:00,  1.07it/s]"
     ]
    },
    {
     "name": "stdout",
     "output_type": "stream",
     "text": [
      "                   all       1282       1879      0.997      0.995      0.995      0.896\n"
     ]
    },
    {
     "name": "stderr",
     "output_type": "stream",
     "text": [
      "\n"
     ]
    },
    {
     "name": "stdout",
     "output_type": "stream",
     "text": [
      "\n",
      "      Epoch    GPU_mem   box_loss   cls_loss   dfl_loss  Instances       Size\n"
     ]
    },
    {
     "name": "stderr",
     "output_type": "stream",
     "text": [
      "     20/100         0G     0.6835     0.4201      1.077        129        256: 100%|██████████| 187/187 [03:39<00:00,  1.17s/it]\n",
      "                 Class     Images  Instances      Box(P          R      mAP50  mAP50-95): 100%|██████████| 21/21 [00:19<00:00,  1.06it/s]"
     ]
    },
    {
     "name": "stdout",
     "output_type": "stream",
     "text": [
      "                   all       1282       1879      0.998      0.996      0.995      0.877\n"
     ]
    },
    {
     "name": "stderr",
     "output_type": "stream",
     "text": [
      "\n"
     ]
    },
    {
     "name": "stdout",
     "output_type": "stream",
     "text": [
      "\n",
      "      Epoch    GPU_mem   box_loss   cls_loss   dfl_loss  Instances       Size\n"
     ]
    },
    {
     "name": "stderr",
     "output_type": "stream",
     "text": [
      "     21/100         0G     0.6675     0.4088       1.07        109        256: 100%|██████████| 187/187 [03:39<00:00,  1.18s/it]\n",
      "                 Class     Images  Instances      Box(P          R      mAP50  mAP50-95): 100%|██████████| 21/21 [00:19<00:00,  1.06it/s]"
     ]
    },
    {
     "name": "stdout",
     "output_type": "stream",
     "text": [
      "                   all       1282       1879      0.993      0.995      0.995      0.874\n"
     ]
    },
    {
     "name": "stderr",
     "output_type": "stream",
     "text": [
      "\n"
     ]
    },
    {
     "name": "stdout",
     "output_type": "stream",
     "text": [
      "\n",
      "      Epoch    GPU_mem   box_loss   cls_loss   dfl_loss  Instances       Size\n"
     ]
    },
    {
     "name": "stderr",
     "output_type": "stream",
     "text": [
      "     22/100         0G     0.6725     0.4111      1.068        120        256: 100%|██████████| 187/187 [03:40<00:00,  1.18s/it]\n",
      "                 Class     Images  Instances      Box(P          R      mAP50  mAP50-95): 100%|██████████| 21/21 [00:19<00:00,  1.06it/s]"
     ]
    },
    {
     "name": "stdout",
     "output_type": "stream",
     "text": [
      "                   all       1282       1879      0.996      0.994      0.995      0.878\n"
     ]
    },
    {
     "name": "stderr",
     "output_type": "stream",
     "text": [
      "\n"
     ]
    },
    {
     "name": "stdout",
     "output_type": "stream",
     "text": [
      "\n",
      "      Epoch    GPU_mem   box_loss   cls_loss   dfl_loss  Instances       Size\n"
     ]
    },
    {
     "name": "stderr",
     "output_type": "stream",
     "text": [
      "     23/100         0G      0.664     0.4037      1.064        125        256: 100%|██████████| 187/187 [03:39<00:00,  1.18s/it]\n",
      "                 Class     Images  Instances      Box(P          R      mAP50  mAP50-95): 100%|██████████| 21/21 [00:19<00:00,  1.05it/s]"
     ]
    },
    {
     "name": "stdout",
     "output_type": "stream",
     "text": [
      "                   all       1282       1879      0.995      0.993      0.995      0.883\n"
     ]
    },
    {
     "name": "stderr",
     "output_type": "stream",
     "text": [
      "\n"
     ]
    },
    {
     "name": "stdout",
     "output_type": "stream",
     "text": [
      "\n",
      "      Epoch    GPU_mem   box_loss   cls_loss   dfl_loss  Instances       Size\n"
     ]
    },
    {
     "name": "stderr",
     "output_type": "stream",
     "text": [
      "     24/100         0G     0.6634     0.4037      1.068        127        256: 100%|██████████| 187/187 [03:38<00:00,  1.17s/it]\n",
      "                 Class     Images  Instances      Box(P          R      mAP50  mAP50-95): 100%|██████████| 21/21 [00:19<00:00,  1.06it/s]"
     ]
    },
    {
     "name": "stdout",
     "output_type": "stream",
     "text": [
      "                   all       1282       1879      0.997      0.993      0.995      0.886\n"
     ]
    },
    {
     "name": "stderr",
     "output_type": "stream",
     "text": [
      "\n"
     ]
    },
    {
     "name": "stdout",
     "output_type": "stream",
     "text": [
      "\n",
      "      Epoch    GPU_mem   box_loss   cls_loss   dfl_loss  Instances       Size\n"
     ]
    },
    {
     "name": "stderr",
     "output_type": "stream",
     "text": [
      "     25/100         0G      0.659     0.4057      1.065        123        256: 100%|██████████| 187/187 [03:39<00:00,  1.18s/it]\n",
      "                 Class     Images  Instances      Box(P          R      mAP50  mAP50-95): 100%|██████████| 21/21 [00:19<00:00,  1.07it/s]"
     ]
    },
    {
     "name": "stdout",
     "output_type": "stream",
     "text": [
      "                   all       1282       1879      0.996      0.996      0.995      0.888\n"
     ]
    },
    {
     "name": "stderr",
     "output_type": "stream",
     "text": [
      "\n"
     ]
    },
    {
     "name": "stdout",
     "output_type": "stream",
     "text": [
      "\n",
      "      Epoch    GPU_mem   box_loss   cls_loss   dfl_loss  Instances       Size\n"
     ]
    },
    {
     "name": "stderr",
     "output_type": "stream",
     "text": [
      "     26/100         0G     0.6538     0.4005      1.064        129        256: 100%|██████████| 187/187 [03:40<00:00,  1.18s/it]\n",
      "                 Class     Images  Instances      Box(P          R      mAP50  mAP50-95): 100%|██████████| 21/21 [00:19<00:00,  1.07it/s]"
     ]
    },
    {
     "name": "stdout",
     "output_type": "stream",
     "text": [
      "                   all       1282       1879      0.997      0.997      0.995      0.874\n"
     ]
    },
    {
     "name": "stderr",
     "output_type": "stream",
     "text": [
      "\n"
     ]
    },
    {
     "name": "stdout",
     "output_type": "stream",
     "text": [
      "\n",
      "      Epoch    GPU_mem   box_loss   cls_loss   dfl_loss  Instances       Size\n"
     ]
    },
    {
     "name": "stderr",
     "output_type": "stream",
     "text": [
      "     27/100         0G     0.6445     0.3919      1.061        121        256: 100%|██████████| 187/187 [03:39<00:00,  1.17s/it]\n",
      "                 Class     Images  Instances      Box(P          R      mAP50  mAP50-95): 100%|██████████| 21/21 [00:19<00:00,  1.06it/s]"
     ]
    },
    {
     "name": "stdout",
     "output_type": "stream",
     "text": [
      "                   all       1282       1879      0.997      0.998      0.995      0.895\n"
     ]
    },
    {
     "name": "stderr",
     "output_type": "stream",
     "text": [
      "\n"
     ]
    },
    {
     "name": "stdout",
     "output_type": "stream",
     "text": [
      "\n",
      "      Epoch    GPU_mem   box_loss   cls_loss   dfl_loss  Instances       Size\n"
     ]
    },
    {
     "name": "stderr",
     "output_type": "stream",
     "text": [
      "     28/100         0G     0.6377     0.3897      1.056        115        256: 100%|██████████| 187/187 [03:40<00:00,  1.18s/it]\n",
      "                 Class     Images  Instances      Box(P          R      mAP50  mAP50-95): 100%|██████████| 21/21 [00:19<00:00,  1.06it/s]"
     ]
    },
    {
     "name": "stdout",
     "output_type": "stream",
     "text": [
      "                   all       1282       1879      0.995      0.997      0.995      0.901\n"
     ]
    },
    {
     "name": "stderr",
     "output_type": "stream",
     "text": [
      "\n"
     ]
    },
    {
     "name": "stdout",
     "output_type": "stream",
     "text": [
      "\n",
      "      Epoch    GPU_mem   box_loss   cls_loss   dfl_loss  Instances       Size\n"
     ]
    },
    {
     "name": "stderr",
     "output_type": "stream",
     "text": [
      "     29/100         0G     0.6369     0.3909      1.059        125        256: 100%|██████████| 187/187 [03:39<00:00,  1.17s/it]\n",
      "                 Class     Images  Instances      Box(P          R      mAP50  mAP50-95): 100%|██████████| 21/21 [00:19<00:00,  1.07it/s]"
     ]
    },
    {
     "name": "stdout",
     "output_type": "stream",
     "text": [
      "                   all       1282       1879      0.998      0.998      0.995      0.911\n"
     ]
    },
    {
     "name": "stderr",
     "output_type": "stream",
     "text": [
      "\n"
     ]
    },
    {
     "name": "stdout",
     "output_type": "stream",
     "text": [
      "\n",
      "      Epoch    GPU_mem   box_loss   cls_loss   dfl_loss  Instances       Size\n"
     ]
    },
    {
     "name": "stderr",
     "output_type": "stream",
     "text": [
      "     30/100         0G     0.6262     0.3822       1.05        136        256: 100%|██████████| 187/187 [03:40<00:00,  1.18s/it]\n",
      "                 Class     Images  Instances      Box(P          R      mAP50  mAP50-95): 100%|██████████| 21/21 [00:19<00:00,  1.06it/s]"
     ]
    },
    {
     "name": "stdout",
     "output_type": "stream",
     "text": [
      "                   all       1282       1879      0.999      0.996      0.995      0.895\n"
     ]
    },
    {
     "name": "stderr",
     "output_type": "stream",
     "text": [
      "\n"
     ]
    },
    {
     "name": "stdout",
     "output_type": "stream",
     "text": [
      "\n",
      "      Epoch    GPU_mem   box_loss   cls_loss   dfl_loss  Instances       Size\n"
     ]
    },
    {
     "name": "stderr",
     "output_type": "stream",
     "text": [
      "     31/100         0G     0.6241     0.3823      1.053        113        256: 100%|██████████| 187/187 [03:39<00:00,  1.18s/it]\n",
      "                 Class     Images  Instances      Box(P          R      mAP50  mAP50-95): 100%|██████████| 21/21 [00:19<00:00,  1.06it/s]"
     ]
    },
    {
     "name": "stdout",
     "output_type": "stream",
     "text": [
      "                   all       1282       1879      0.994      0.995      0.995      0.909\n"
     ]
    },
    {
     "name": "stderr",
     "output_type": "stream",
     "text": [
      "\n"
     ]
    },
    {
     "name": "stdout",
     "output_type": "stream",
     "text": [
      "\n",
      "      Epoch    GPU_mem   box_loss   cls_loss   dfl_loss  Instances       Size\n"
     ]
    },
    {
     "name": "stderr",
     "output_type": "stream",
     "text": [
      "     32/100         0G     0.6169     0.3791       1.05        127        256: 100%|██████████| 187/187 [03:40<00:00,  1.18s/it]\n",
      "                 Class     Images  Instances      Box(P          R      mAP50  mAP50-95): 100%|██████████| 21/21 [00:19<00:00,  1.07it/s]"
     ]
    },
    {
     "name": "stdout",
     "output_type": "stream",
     "text": [
      "                   all       1282       1879      0.997      0.996      0.995      0.916\n"
     ]
    },
    {
     "name": "stderr",
     "output_type": "stream",
     "text": [
      "\n"
     ]
    },
    {
     "name": "stdout",
     "output_type": "stream",
     "text": [
      "\n",
      "      Epoch    GPU_mem   box_loss   cls_loss   dfl_loss  Instances       Size\n"
     ]
    },
    {
     "name": "stderr",
     "output_type": "stream",
     "text": [
      "     33/100         0G     0.6143     0.3778      1.047        121        256: 100%|██████████| 187/187 [03:40<00:00,  1.18s/it]\n",
      "                 Class     Images  Instances      Box(P          R      mAP50  mAP50-95): 100%|██████████| 21/21 [00:19<00:00,  1.06it/s]"
     ]
    },
    {
     "name": "stdout",
     "output_type": "stream",
     "text": [
      "                   all       1282       1879      0.998      0.998      0.995      0.917\n"
     ]
    },
    {
     "name": "stderr",
     "output_type": "stream",
     "text": [
      "\n"
     ]
    },
    {
     "name": "stdout",
     "output_type": "stream",
     "text": [
      "\n",
      "      Epoch    GPU_mem   box_loss   cls_loss   dfl_loss  Instances       Size\n"
     ]
    },
    {
     "name": "stderr",
     "output_type": "stream",
     "text": [
      "     34/100         0G     0.6086     0.3725      1.045        116        256: 100%|██████████| 187/187 [03:40<00:00,  1.18s/it]\n",
      "                 Class     Images  Instances      Box(P          R      mAP50  mAP50-95): 100%|██████████| 21/21 [00:19<00:00,  1.07it/s]"
     ]
    },
    {
     "name": "stdout",
     "output_type": "stream",
     "text": [
      "                   all       1282       1879      0.998      0.998      0.995      0.897\n"
     ]
    },
    {
     "name": "stderr",
     "output_type": "stream",
     "text": [
      "\n"
     ]
    },
    {
     "name": "stdout",
     "output_type": "stream",
     "text": [
      "\n",
      "      Epoch    GPU_mem   box_loss   cls_loss   dfl_loss  Instances       Size\n"
     ]
    },
    {
     "name": "stderr",
     "output_type": "stream",
     "text": [
      "     35/100         0G     0.6155     0.3751      1.048        119        256: 100%|██████████| 187/187 [03:39<00:00,  1.17s/it]\n",
      "                 Class     Images  Instances      Box(P          R      mAP50  mAP50-95): 100%|██████████| 21/21 [00:19<00:00,  1.05it/s]"
     ]
    },
    {
     "name": "stdout",
     "output_type": "stream",
     "text": [
      "                   all       1282       1879          1      0.998      0.995      0.914\n"
     ]
    },
    {
     "name": "stderr",
     "output_type": "stream",
     "text": [
      "\n"
     ]
    },
    {
     "name": "stdout",
     "output_type": "stream",
     "text": [
      "\n",
      "      Epoch    GPU_mem   box_loss   cls_loss   dfl_loss  Instances       Size\n"
     ]
    },
    {
     "name": "stderr",
     "output_type": "stream",
     "text": [
      "     36/100         0G     0.6053     0.3673      1.043        123        256: 100%|██████████| 187/187 [03:40<00:00,  1.18s/it]\n",
      "                 Class     Images  Instances      Box(P          R      mAP50  mAP50-95): 100%|██████████| 21/21 [00:19<00:00,  1.06it/s]"
     ]
    },
    {
     "name": "stdout",
     "output_type": "stream",
     "text": [
      "                   all       1282       1879      0.997      0.997      0.995      0.919\n"
     ]
    },
    {
     "name": "stderr",
     "output_type": "stream",
     "text": [
      "\n"
     ]
    },
    {
     "name": "stdout",
     "output_type": "stream",
     "text": [
      "\n",
      "      Epoch    GPU_mem   box_loss   cls_loss   dfl_loss  Instances       Size\n"
     ]
    },
    {
     "name": "stderr",
     "output_type": "stream",
     "text": [
      "     37/100         0G     0.6045     0.3721      1.042        116        256: 100%|██████████| 187/187 [03:40<00:00,  1.18s/it]\n",
      "                 Class     Images  Instances      Box(P          R      mAP50  mAP50-95): 100%|██████████| 21/21 [00:19<00:00,  1.06it/s]"
     ]
    },
    {
     "name": "stdout",
     "output_type": "stream",
     "text": [
      "                   all       1282       1879      0.999      0.996      0.995       0.91\n"
     ]
    },
    {
     "name": "stderr",
     "output_type": "stream",
     "text": [
      "\n"
     ]
    },
    {
     "name": "stdout",
     "output_type": "stream",
     "text": [
      "\n",
      "      Epoch    GPU_mem   box_loss   cls_loss   dfl_loss  Instances       Size\n"
     ]
    },
    {
     "name": "stderr",
     "output_type": "stream",
     "text": [
      "     38/100         0G      0.601     0.3702      1.039        110        256: 100%|██████████| 187/187 [03:39<00:00,  1.17s/it]\n",
      "                 Class     Images  Instances      Box(P          R      mAP50  mAP50-95): 100%|██████████| 21/21 [00:19<00:00,  1.06it/s]"
     ]
    },
    {
     "name": "stdout",
     "output_type": "stream",
     "text": [
      "                   all       1282       1879      0.998      0.995      0.995      0.915\n"
     ]
    },
    {
     "name": "stderr",
     "output_type": "stream",
     "text": [
      "\n"
     ]
    },
    {
     "name": "stdout",
     "output_type": "stream",
     "text": [
      "\n",
      "      Epoch    GPU_mem   box_loss   cls_loss   dfl_loss  Instances       Size\n"
     ]
    },
    {
     "name": "stderr",
     "output_type": "stream",
     "text": [
      "     39/100         0G     0.5955     0.3662      1.039        110        256: 100%|██████████| 187/187 [03:39<00:00,  1.18s/it]\n",
      "                 Class     Images  Instances      Box(P          R      mAP50  mAP50-95): 100%|██████████| 21/21 [00:19<00:00,  1.06it/s]"
     ]
    },
    {
     "name": "stdout",
     "output_type": "stream",
     "text": [
      "                   all       1282       1879      0.997      0.997      0.995      0.913\n"
     ]
    },
    {
     "name": "stderr",
     "output_type": "stream",
     "text": [
      "\n"
     ]
    },
    {
     "name": "stdout",
     "output_type": "stream",
     "text": [
      "\n",
      "      Epoch    GPU_mem   box_loss   cls_loss   dfl_loss  Instances       Size\n"
     ]
    },
    {
     "name": "stderr",
     "output_type": "stream",
     "text": [
      "     40/100         0G     0.5962     0.3668      1.041         99        256: 100%|██████████| 187/187 [03:39<00:00,  1.18s/it]\n",
      "                 Class     Images  Instances      Box(P          R      mAP50  mAP50-95): 100%|██████████| 21/21 [00:19<00:00,  1.06it/s]"
     ]
    },
    {
     "name": "stdout",
     "output_type": "stream",
     "text": [
      "                   all       1282       1879      0.996      0.997      0.995      0.922\n"
     ]
    },
    {
     "name": "stderr",
     "output_type": "stream",
     "text": [
      "\n"
     ]
    },
    {
     "name": "stdout",
     "output_type": "stream",
     "text": [
      "\n",
      "      Epoch    GPU_mem   box_loss   cls_loss   dfl_loss  Instances       Size\n"
     ]
    },
    {
     "name": "stderr",
     "output_type": "stream",
     "text": [
      "     41/100         0G     0.5928     0.3627      1.039        110        256: 100%|██████████| 187/187 [03:39<00:00,  1.17s/it]\n",
      "                 Class     Images  Instances      Box(P          R      mAP50  mAP50-95): 100%|██████████| 21/21 [00:19<00:00,  1.07it/s]"
     ]
    },
    {
     "name": "stdout",
     "output_type": "stream",
     "text": [
      "                   all       1282       1879      0.998      0.997      0.995      0.923\n"
     ]
    },
    {
     "name": "stderr",
     "output_type": "stream",
     "text": [
      "\n"
     ]
    },
    {
     "name": "stdout",
     "output_type": "stream",
     "text": [
      "\n",
      "      Epoch    GPU_mem   box_loss   cls_loss   dfl_loss  Instances       Size\n"
     ]
    },
    {
     "name": "stderr",
     "output_type": "stream",
     "text": [
      "     42/100         0G     0.5895     0.3647      1.033        127        256: 100%|██████████| 187/187 [03:40<00:00,  1.18s/it]\n",
      "                 Class     Images  Instances      Box(P          R      mAP50  mAP50-95): 100%|██████████| 21/21 [00:19<00:00,  1.07it/s]"
     ]
    },
    {
     "name": "stdout",
     "output_type": "stream",
     "text": [
      "                   all       1282       1879      0.997      0.996      0.995       0.91\n"
     ]
    },
    {
     "name": "stderr",
     "output_type": "stream",
     "text": [
      "\n"
     ]
    },
    {
     "name": "stdout",
     "output_type": "stream",
     "text": [
      "\n",
      "      Epoch    GPU_mem   box_loss   cls_loss   dfl_loss  Instances       Size\n"
     ]
    },
    {
     "name": "stderr",
     "output_type": "stream",
     "text": [
      "     43/100         0G     0.5875     0.3606      1.038        120        256: 100%|██████████| 187/187 [03:39<00:00,  1.17s/it]\n",
      "                 Class     Images  Instances      Box(P          R      mAP50  mAP50-95): 100%|██████████| 21/21 [00:19<00:00,  1.06it/s]"
     ]
    },
    {
     "name": "stdout",
     "output_type": "stream",
     "text": [
      "                   all       1282       1879      0.999      0.998      0.995      0.917\n"
     ]
    },
    {
     "name": "stderr",
     "output_type": "stream",
     "text": [
      "\n"
     ]
    },
    {
     "name": "stdout",
     "output_type": "stream",
     "text": [
      "\n",
      "      Epoch    GPU_mem   box_loss   cls_loss   dfl_loss  Instances       Size\n"
     ]
    },
    {
     "name": "stderr",
     "output_type": "stream",
     "text": [
      "     44/100         0G     0.5895     0.3643       1.04        121        256: 100%|██████████| 187/187 [03:40<00:00,  1.18s/it]\n",
      "                 Class     Images  Instances      Box(P          R      mAP50  mAP50-95): 100%|██████████| 21/21 [00:19<00:00,  1.06it/s]"
     ]
    },
    {
     "name": "stdout",
     "output_type": "stream",
     "text": [
      "                   all       1282       1879      0.997      0.997      0.995      0.912\n"
     ]
    },
    {
     "name": "stderr",
     "output_type": "stream",
     "text": [
      "\n"
     ]
    },
    {
     "name": "stdout",
     "output_type": "stream",
     "text": [
      "\n",
      "      Epoch    GPU_mem   box_loss   cls_loss   dfl_loss  Instances       Size\n"
     ]
    },
    {
     "name": "stderr",
     "output_type": "stream",
     "text": [
      "     45/100         0G     0.5798      0.355      1.033        124        256: 100%|██████████| 187/187 [03:39<00:00,  1.17s/it]\n",
      "                 Class     Images  Instances      Box(P          R      mAP50  mAP50-95): 100%|██████████| 21/21 [00:19<00:00,  1.06it/s]"
     ]
    },
    {
     "name": "stdout",
     "output_type": "stream",
     "text": [
      "                   all       1282       1879      0.998      0.994      0.995      0.931\n"
     ]
    },
    {
     "name": "stderr",
     "output_type": "stream",
     "text": [
      "\n"
     ]
    },
    {
     "name": "stdout",
     "output_type": "stream",
     "text": [
      "\n",
      "      Epoch    GPU_mem   box_loss   cls_loss   dfl_loss  Instances       Size\n"
     ]
    },
    {
     "name": "stderr",
     "output_type": "stream",
     "text": [
      "     46/100         0G     0.5799     0.3568      1.033        105        256: 100%|██████████| 187/187 [03:40<00:00,  1.18s/it]\n",
      "                 Class     Images  Instances      Box(P          R      mAP50  mAP50-95): 100%|██████████| 21/21 [00:19<00:00,  1.06it/s]"
     ]
    },
    {
     "name": "stdout",
     "output_type": "stream",
     "text": [
      "                   all       1282       1879      0.998      0.998      0.995      0.927\n"
     ]
    },
    {
     "name": "stderr",
     "output_type": "stream",
     "text": [
      "\n"
     ]
    },
    {
     "name": "stdout",
     "output_type": "stream",
     "text": [
      "\n",
      "      Epoch    GPU_mem   box_loss   cls_loss   dfl_loss  Instances       Size\n"
     ]
    },
    {
     "name": "stderr",
     "output_type": "stream",
     "text": [
      "     47/100         0G      0.573     0.3513      1.033         95        256: 100%|██████████| 187/187 [03:39<00:00,  1.18s/it]\n",
      "                 Class     Images  Instances      Box(P          R      mAP50  mAP50-95): 100%|██████████| 21/21 [00:19<00:00,  1.07it/s]"
     ]
    },
    {
     "name": "stdout",
     "output_type": "stream",
     "text": [
      "                   all       1282       1879      0.998      0.997      0.995      0.917\n"
     ]
    },
    {
     "name": "stderr",
     "output_type": "stream",
     "text": [
      "\n"
     ]
    },
    {
     "name": "stdout",
     "output_type": "stream",
     "text": [
      "\n",
      "      Epoch    GPU_mem   box_loss   cls_loss   dfl_loss  Instances       Size\n"
     ]
    },
    {
     "name": "stderr",
     "output_type": "stream",
     "text": [
      "     48/100         0G     0.5735     0.3549      1.029        140        256: 100%|██████████| 187/187 [03:40<00:00,  1.18s/it]\n",
      "                 Class     Images  Instances      Box(P          R      mAP50  mAP50-95): 100%|██████████| 21/21 [00:19<00:00,  1.07it/s]"
     ]
    },
    {
     "name": "stdout",
     "output_type": "stream",
     "text": [
      "                   all       1282       1879      0.999      0.998      0.995      0.928\n"
     ]
    },
    {
     "name": "stderr",
     "output_type": "stream",
     "text": [
      "\n"
     ]
    },
    {
     "name": "stdout",
     "output_type": "stream",
     "text": [
      "\n",
      "      Epoch    GPU_mem   box_loss   cls_loss   dfl_loss  Instances       Size\n"
     ]
    },
    {
     "name": "stderr",
     "output_type": "stream",
     "text": [
      "     49/100         0G     0.5696     0.3485      1.031        115        256: 100%|██████████| 187/187 [03:39<00:00,  1.18s/it]\n",
      "                 Class     Images  Instances      Box(P          R      mAP50  mAP50-95): 100%|██████████| 21/21 [00:19<00:00,  1.07it/s]"
     ]
    },
    {
     "name": "stdout",
     "output_type": "stream",
     "text": [
      "                   all       1282       1879      0.998      0.995      0.995      0.927\n"
     ]
    },
    {
     "name": "stderr",
     "output_type": "stream",
     "text": [
      "\n"
     ]
    },
    {
     "name": "stdout",
     "output_type": "stream",
     "text": [
      "\n",
      "      Epoch    GPU_mem   box_loss   cls_loss   dfl_loss  Instances       Size\n"
     ]
    },
    {
     "name": "stderr",
     "output_type": "stream",
     "text": [
      "     50/100         0G     0.5693     0.3488      1.025         95        256: 100%|██████████| 187/187 [03:39<00:00,  1.17s/it]\n",
      "                 Class     Images  Instances      Box(P          R      mAP50  mAP50-95): 100%|██████████| 21/21 [00:19<00:00,  1.06it/s]"
     ]
    },
    {
     "name": "stdout",
     "output_type": "stream",
     "text": [
      "                   all       1282       1879      0.998      0.997      0.995       0.93\n"
     ]
    },
    {
     "name": "stderr",
     "output_type": "stream",
     "text": [
      "\n"
     ]
    },
    {
     "name": "stdout",
     "output_type": "stream",
     "text": [
      "\n",
      "      Epoch    GPU_mem   box_loss   cls_loss   dfl_loss  Instances       Size\n"
     ]
    },
    {
     "name": "stderr",
     "output_type": "stream",
     "text": [
      "     51/100         0G     0.5629     0.3473      1.025        130        256: 100%|██████████| 187/187 [03:39<00:00,  1.18s/it]\n",
      "                 Class     Images  Instances      Box(P          R      mAP50  mAP50-95): 100%|██████████| 21/21 [00:19<00:00,  1.05it/s]"
     ]
    },
    {
     "name": "stdout",
     "output_type": "stream",
     "text": [
      "                   all       1282       1879      0.997      0.997      0.995      0.926\n"
     ]
    },
    {
     "name": "stderr",
     "output_type": "stream",
     "text": [
      "\n"
     ]
    },
    {
     "name": "stdout",
     "output_type": "stream",
     "text": [
      "\n",
      "      Epoch    GPU_mem   box_loss   cls_loss   dfl_loss  Instances       Size\n"
     ]
    },
    {
     "name": "stderr",
     "output_type": "stream",
     "text": [
      "     52/100         0G     0.5606     0.3462      1.025        123        256: 100%|██████████| 187/187 [03:39<00:00,  1.17s/it]\n",
      "                 Class     Images  Instances      Box(P          R      mAP50  mAP50-95): 100%|██████████| 21/21 [00:19<00:00,  1.06it/s]"
     ]
    },
    {
     "name": "stdout",
     "output_type": "stream",
     "text": [
      "                   all       1282       1879      0.998      0.997      0.995      0.915\n"
     ]
    },
    {
     "name": "stderr",
     "output_type": "stream",
     "text": [
      "\n"
     ]
    },
    {
     "name": "stdout",
     "output_type": "stream",
     "text": [
      "\n",
      "      Epoch    GPU_mem   box_loss   cls_loss   dfl_loss  Instances       Size\n"
     ]
    },
    {
     "name": "stderr",
     "output_type": "stream",
     "text": [
      "     53/100         0G     0.5695     0.3485      1.031        137        256: 100%|██████████| 187/187 [03:40<00:00,  1.18s/it]\n",
      "                 Class     Images  Instances      Box(P          R      mAP50  mAP50-95): 100%|██████████| 21/21 [00:19<00:00,  1.06it/s]"
     ]
    },
    {
     "name": "stdout",
     "output_type": "stream",
     "text": [
      "                   all       1282       1879      0.999      0.997      0.995      0.934\n"
     ]
    },
    {
     "name": "stderr",
     "output_type": "stream",
     "text": [
      "\n"
     ]
    },
    {
     "name": "stdout",
     "output_type": "stream",
     "text": [
      "\n",
      "      Epoch    GPU_mem   box_loss   cls_loss   dfl_loss  Instances       Size\n"
     ]
    },
    {
     "name": "stderr",
     "output_type": "stream",
     "text": [
      "     54/100         0G     0.5616     0.3446      1.027        119        256: 100%|██████████| 187/187 [03:39<00:00,  1.17s/it]\n",
      "                 Class     Images  Instances      Box(P          R      mAP50  mAP50-95): 100%|██████████| 21/21 [00:19<00:00,  1.06it/s]"
     ]
    },
    {
     "name": "stdout",
     "output_type": "stream",
     "text": [
      "                   all       1282       1879      0.998      0.998      0.995      0.923\n"
     ]
    },
    {
     "name": "stderr",
     "output_type": "stream",
     "text": [
      "\n"
     ]
    },
    {
     "name": "stdout",
     "output_type": "stream",
     "text": [
      "\n",
      "      Epoch    GPU_mem   box_loss   cls_loss   dfl_loss  Instances       Size\n"
     ]
    },
    {
     "name": "stderr",
     "output_type": "stream",
     "text": [
      "     55/100         0G     0.5553     0.3408      1.025        106        256: 100%|██████████| 187/187 [03:40<00:00,  1.18s/it]\n",
      "                 Class     Images  Instances      Box(P          R      mAP50  mAP50-95): 100%|██████████| 21/21 [00:19<00:00,  1.07it/s]"
     ]
    },
    {
     "name": "stdout",
     "output_type": "stream",
     "text": [
      "                   all       1282       1879      0.997      0.998      0.995      0.932\n"
     ]
    },
    {
     "name": "stderr",
     "output_type": "stream",
     "text": [
      "\n"
     ]
    },
    {
     "name": "stdout",
     "output_type": "stream",
     "text": [
      "\n",
      "      Epoch    GPU_mem   box_loss   cls_loss   dfl_loss  Instances       Size\n"
     ]
    },
    {
     "name": "stderr",
     "output_type": "stream",
     "text": [
      "     56/100         0G     0.5496     0.3372       1.02        116        256: 100%|██████████| 187/187 [03:40<00:00,  1.18s/it]\n",
      "                 Class     Images  Instances      Box(P          R      mAP50  mAP50-95): 100%|██████████| 21/21 [00:19<00:00,  1.07it/s]"
     ]
    },
    {
     "name": "stdout",
     "output_type": "stream",
     "text": [
      "                   all       1282       1879      0.999      0.998      0.995      0.926\n"
     ]
    },
    {
     "name": "stderr",
     "output_type": "stream",
     "text": [
      "\n"
     ]
    },
    {
     "name": "stdout",
     "output_type": "stream",
     "text": [
      "\n",
      "      Epoch    GPU_mem   box_loss   cls_loss   dfl_loss  Instances       Size\n"
     ]
    },
    {
     "name": "stderr",
     "output_type": "stream",
     "text": [
      "     57/100         0G     0.5533     0.3377      1.023        127        256: 100%|██████████| 187/187 [03:39<00:00,  1.18s/it]\n",
      "                 Class     Images  Instances      Box(P          R      mAP50  mAP50-95): 100%|██████████| 21/21 [00:23<00:00,  1.12s/it]"
     ]
    },
    {
     "name": "stdout",
     "output_type": "stream",
     "text": [
      "                   all       1282       1879      0.999      0.998      0.995      0.923\n"
     ]
    },
    {
     "name": "stderr",
     "output_type": "stream",
     "text": [
      "\n"
     ]
    },
    {
     "name": "stdout",
     "output_type": "stream",
     "text": [
      "\n",
      "      Epoch    GPU_mem   box_loss   cls_loss   dfl_loss  Instances       Size\n"
     ]
    },
    {
     "name": "stderr",
     "output_type": "stream",
     "text": [
      "     58/100         0G     0.5508     0.3409      1.021        127        256: 100%|██████████| 187/187 [03:40<00:00,  1.18s/it]\n",
      "                 Class     Images  Instances      Box(P          R      mAP50  mAP50-95): 100%|██████████| 21/21 [00:19<00:00,  1.06it/s]"
     ]
    },
    {
     "name": "stdout",
     "output_type": "stream",
     "text": [
      "                   all       1282       1879      0.999      0.998      0.995       0.93\n"
     ]
    },
    {
     "name": "stderr",
     "output_type": "stream",
     "text": [
      "\n"
     ]
    },
    {
     "name": "stdout",
     "output_type": "stream",
     "text": [
      "\n",
      "      Epoch    GPU_mem   box_loss   cls_loss   dfl_loss  Instances       Size\n"
     ]
    },
    {
     "name": "stderr",
     "output_type": "stream",
     "text": [
      "     59/100         0G     0.5486     0.3407      1.023        113        256: 100%|██████████| 187/187 [03:40<00:00,  1.18s/it]\n",
      "                 Class     Images  Instances      Box(P          R      mAP50  mAP50-95): 100%|██████████| 21/21 [00:19<00:00,  1.05it/s]"
     ]
    },
    {
     "name": "stdout",
     "output_type": "stream",
     "text": [
      "                   all       1282       1879      0.999      0.997      0.995      0.933\n"
     ]
    },
    {
     "name": "stderr",
     "output_type": "stream",
     "text": [
      "\n"
     ]
    },
    {
     "name": "stdout",
     "output_type": "stream",
     "text": [
      "\n",
      "      Epoch    GPU_mem   box_loss   cls_loss   dfl_loss  Instances       Size\n"
     ]
    },
    {
     "name": "stderr",
     "output_type": "stream",
     "text": [
      "     60/100         0G     0.5454     0.3352      1.019        120        256: 100%|██████████| 187/187 [03:39<00:00,  1.18s/it]\n",
      "                 Class     Images  Instances      Box(P          R      mAP50  mAP50-95): 100%|██████████| 21/21 [00:19<00:00,  1.07it/s]"
     ]
    },
    {
     "name": "stdout",
     "output_type": "stream",
     "text": [
      "                   all       1282       1879      0.999      0.998      0.995      0.939\n"
     ]
    },
    {
     "name": "stderr",
     "output_type": "stream",
     "text": [
      "\n"
     ]
    },
    {
     "name": "stdout",
     "output_type": "stream",
     "text": [
      "\n",
      "      Epoch    GPU_mem   box_loss   cls_loss   dfl_loss  Instances       Size\n"
     ]
    },
    {
     "name": "stderr",
     "output_type": "stream",
     "text": [
      "     61/100         0G     0.5497     0.3385      1.023        121        256: 100%|██████████| 187/187 [03:39<00:00,  1.17s/it]\n",
      "                 Class     Images  Instances      Box(P          R      mAP50  mAP50-95): 100%|██████████| 21/21 [00:19<00:00,  1.06it/s]"
     ]
    },
    {
     "name": "stdout",
     "output_type": "stream",
     "text": [
      "                   all       1282       1879      0.999      0.997      0.995      0.935\n"
     ]
    },
    {
     "name": "stderr",
     "output_type": "stream",
     "text": [
      "\n"
     ]
    },
    {
     "name": "stdout",
     "output_type": "stream",
     "text": [
      "\n",
      "      Epoch    GPU_mem   box_loss   cls_loss   dfl_loss  Instances       Size\n"
     ]
    },
    {
     "name": "stderr",
     "output_type": "stream",
     "text": [
      "     62/100         0G     0.5412     0.3357      1.022        114        256: 100%|██████████| 187/187 [03:40<00:00,  1.18s/it]\n",
      "                 Class     Images  Instances      Box(P          R      mAP50  mAP50-95): 100%|██████████| 21/21 [00:19<00:00,  1.06it/s]"
     ]
    },
    {
     "name": "stdout",
     "output_type": "stream",
     "text": [
      "                   all       1282       1879      0.997      0.998      0.995      0.936\n"
     ]
    },
    {
     "name": "stderr",
     "output_type": "stream",
     "text": [
      "\n"
     ]
    },
    {
     "name": "stdout",
     "output_type": "stream",
     "text": [
      "\n",
      "      Epoch    GPU_mem   box_loss   cls_loss   dfl_loss  Instances       Size\n"
     ]
    },
    {
     "name": "stderr",
     "output_type": "stream",
     "text": [
      "     63/100         0G     0.5397     0.3314      1.019        131        256: 100%|██████████| 187/187 [03:40<00:00,  1.18s/it]\n",
      "                 Class     Images  Instances      Box(P          R      mAP50  mAP50-95): 100%|██████████| 21/21 [00:19<00:00,  1.07it/s]"
     ]
    },
    {
     "name": "stdout",
     "output_type": "stream",
     "text": [
      "                   all       1282       1879      0.999      0.997      0.995       0.94\n"
     ]
    },
    {
     "name": "stderr",
     "output_type": "stream",
     "text": [
      "\n"
     ]
    },
    {
     "name": "stdout",
     "output_type": "stream",
     "text": [
      "\n",
      "      Epoch    GPU_mem   box_loss   cls_loss   dfl_loss  Instances       Size\n"
     ]
    },
    {
     "name": "stderr",
     "output_type": "stream",
     "text": [
      "     64/100         0G     0.5337     0.3314      1.016        111        256: 100%|██████████| 187/187 [03:40<00:00,  1.18s/it]\n",
      "                 Class     Images  Instances      Box(P          R      mAP50  mAP50-95): 100%|██████████| 21/21 [00:19<00:00,  1.06it/s]"
     ]
    },
    {
     "name": "stdout",
     "output_type": "stream",
     "text": [
      "                   all       1282       1879      0.999      0.998      0.995      0.941\n"
     ]
    },
    {
     "name": "stderr",
     "output_type": "stream",
     "text": [
      "\n"
     ]
    },
    {
     "name": "stdout",
     "output_type": "stream",
     "text": [
      "\n",
      "      Epoch    GPU_mem   box_loss   cls_loss   dfl_loss  Instances       Size\n"
     ]
    },
    {
     "name": "stderr",
     "output_type": "stream",
     "text": [
      "     65/100         0G     0.5316     0.3251      1.014        123        256: 100%|██████████| 187/187 [03:39<00:00,  1.18s/it]\n",
      "                 Class     Images  Instances      Box(P          R      mAP50  mAP50-95): 100%|██████████| 21/21 [00:19<00:00,  1.06it/s]"
     ]
    },
    {
     "name": "stdout",
     "output_type": "stream",
     "text": [
      "                   all       1282       1879      0.999      0.998      0.995      0.932\n"
     ]
    },
    {
     "name": "stderr",
     "output_type": "stream",
     "text": [
      "\n"
     ]
    },
    {
     "name": "stdout",
     "output_type": "stream",
     "text": [
      "\n",
      "      Epoch    GPU_mem   box_loss   cls_loss   dfl_loss  Instances       Size\n"
     ]
    },
    {
     "name": "stderr",
     "output_type": "stream",
     "text": [
      "     66/100         0G     0.5349     0.3279      1.018        139        256: 100%|██████████| 187/187 [03:39<00:00,  1.17s/it]\n",
      "                 Class     Images  Instances      Box(P          R      mAP50  mAP50-95): 100%|██████████| 21/21 [00:19<00:00,  1.07it/s]"
     ]
    },
    {
     "name": "stdout",
     "output_type": "stream",
     "text": [
      "                   all       1282       1879      0.999      0.998      0.995      0.939\n"
     ]
    },
    {
     "name": "stderr",
     "output_type": "stream",
     "text": [
      "\n"
     ]
    },
    {
     "name": "stdout",
     "output_type": "stream",
     "text": [
      "\n",
      "      Epoch    GPU_mem   box_loss   cls_loss   dfl_loss  Instances       Size\n"
     ]
    },
    {
     "name": "stderr",
     "output_type": "stream",
     "text": [
      "     67/100         0G     0.5352     0.3295      1.017        103        256: 100%|██████████| 187/187 [03:40<00:00,  1.18s/it]\n",
      "                 Class     Images  Instances      Box(P          R      mAP50  mAP50-95): 100%|██████████| 21/21 [00:19<00:00,  1.05it/s]"
     ]
    },
    {
     "name": "stdout",
     "output_type": "stream",
     "text": [
      "                   all       1282       1879      0.999      0.997      0.995      0.931\n"
     ]
    },
    {
     "name": "stderr",
     "output_type": "stream",
     "text": [
      "\n"
     ]
    },
    {
     "name": "stdout",
     "output_type": "stream",
     "text": [
      "\n",
      "      Epoch    GPU_mem   box_loss   cls_loss   dfl_loss  Instances       Size\n"
     ]
    },
    {
     "name": "stderr",
     "output_type": "stream",
     "text": [
      "     68/100         0G     0.5319     0.3249      1.014        101        256: 100%|██████████| 187/187 [03:39<00:00,  1.17s/it]\n",
      "                 Class     Images  Instances      Box(P          R      mAP50  mAP50-95): 100%|██████████| 21/21 [00:19<00:00,  1.07it/s]"
     ]
    },
    {
     "name": "stdout",
     "output_type": "stream",
     "text": [
      "                   all       1282       1879      0.999      0.998      0.995      0.929\n"
     ]
    },
    {
     "name": "stderr",
     "output_type": "stream",
     "text": [
      "\n"
     ]
    },
    {
     "name": "stdout",
     "output_type": "stream",
     "text": [
      "\n",
      "      Epoch    GPU_mem   box_loss   cls_loss   dfl_loss  Instances       Size\n"
     ]
    },
    {
     "name": "stderr",
     "output_type": "stream",
     "text": [
      "     69/100         0G     0.5288     0.3244      1.016        114        256: 100%|██████████| 187/187 [03:39<00:00,  1.17s/it]\n",
      "                 Class     Images  Instances      Box(P          R      mAP50  mAP50-95): 100%|██████████| 21/21 [00:19<00:00,  1.07it/s]"
     ]
    },
    {
     "name": "stdout",
     "output_type": "stream",
     "text": [
      "                   all       1282       1879      0.998      0.998      0.995      0.934\n"
     ]
    },
    {
     "name": "stderr",
     "output_type": "stream",
     "text": [
      "\n"
     ]
    },
    {
     "name": "stdout",
     "output_type": "stream",
     "text": [
      "\n",
      "      Epoch    GPU_mem   box_loss   cls_loss   dfl_loss  Instances       Size\n"
     ]
    },
    {
     "name": "stderr",
     "output_type": "stream",
     "text": [
      "     70/100         0G     0.5237     0.3232       1.01        132        256: 100%|██████████| 187/187 [03:39<00:00,  1.18s/it]\n",
      "                 Class     Images  Instances      Box(P          R      mAP50  mAP50-95): 100%|██████████| 21/21 [00:19<00:00,  1.06it/s]"
     ]
    },
    {
     "name": "stdout",
     "output_type": "stream",
     "text": [
      "                   all       1282       1879      0.999      0.998      0.995      0.932\n"
     ]
    },
    {
     "name": "stderr",
     "output_type": "stream",
     "text": [
      "\n"
     ]
    },
    {
     "name": "stdout",
     "output_type": "stream",
     "text": [
      "\n",
      "      Epoch    GPU_mem   box_loss   cls_loss   dfl_loss  Instances       Size\n"
     ]
    },
    {
     "name": "stderr",
     "output_type": "stream",
     "text": [
      "     71/100         0G     0.5234     0.3208      1.013        128        256: 100%|██████████| 187/187 [03:40<00:00,  1.18s/it]\n",
      "                 Class     Images  Instances      Box(P          R      mAP50  mAP50-95): 100%|██████████| 21/21 [00:19<00:00,  1.07it/s]"
     ]
    },
    {
     "name": "stdout",
     "output_type": "stream",
     "text": [
      "                   all       1282       1879      0.998      0.998      0.995      0.935\n"
     ]
    },
    {
     "name": "stderr",
     "output_type": "stream",
     "text": [
      "\n"
     ]
    },
    {
     "name": "stdout",
     "output_type": "stream",
     "text": [
      "\n",
      "      Epoch    GPU_mem   box_loss   cls_loss   dfl_loss  Instances       Size\n"
     ]
    },
    {
     "name": "stderr",
     "output_type": "stream",
     "text": [
      "     72/100         0G     0.5194     0.3169      1.011        113        256: 100%|██████████| 187/187 [03:40<00:00,  1.18s/it]\n",
      "                 Class     Images  Instances      Box(P          R      mAP50  mAP50-95): 100%|██████████| 21/21 [00:19<00:00,  1.06it/s]"
     ]
    },
    {
     "name": "stdout",
     "output_type": "stream",
     "text": [
      "                   all       1282       1879      0.999      0.998      0.995      0.936\n"
     ]
    },
    {
     "name": "stderr",
     "output_type": "stream",
     "text": [
      "\n"
     ]
    },
    {
     "name": "stdout",
     "output_type": "stream",
     "text": [
      "\n",
      "      Epoch    GPU_mem   box_loss   cls_loss   dfl_loss  Instances       Size\n"
     ]
    },
    {
     "name": "stderr",
     "output_type": "stream",
     "text": [
      "     73/100         0G     0.5161     0.3188      1.009        132        256: 100%|██████████| 187/187 [03:39<00:00,  1.17s/it]\n",
      "                 Class     Images  Instances      Box(P          R      mAP50  mAP50-95): 100%|██████████| 21/21 [00:19<00:00,  1.06it/s]"
     ]
    },
    {
     "name": "stdout",
     "output_type": "stream",
     "text": [
      "                   all       1282       1879      0.999      0.999      0.995       0.93\n"
     ]
    },
    {
     "name": "stderr",
     "output_type": "stream",
     "text": [
      "\n"
     ]
    },
    {
     "name": "stdout",
     "output_type": "stream",
     "text": [
      "\n",
      "      Epoch    GPU_mem   box_loss   cls_loss   dfl_loss  Instances       Size\n"
     ]
    },
    {
     "name": "stderr",
     "output_type": "stream",
     "text": [
      "     74/100         0G     0.5128     0.3164       1.01        123        256: 100%|██████████| 187/187 [03:40<00:00,  1.18s/it]\n",
      "                 Class     Images  Instances      Box(P          R      mAP50  mAP50-95): 100%|██████████| 21/21 [00:19<00:00,  1.06it/s]"
     ]
    },
    {
     "name": "stdout",
     "output_type": "stream",
     "text": [
      "                   all       1282       1879      0.999      0.998      0.995      0.932\n"
     ]
    },
    {
     "name": "stderr",
     "output_type": "stream",
     "text": [
      "\n"
     ]
    },
    {
     "name": "stdout",
     "output_type": "stream",
     "text": [
      "\n",
      "      Epoch    GPU_mem   box_loss   cls_loss   dfl_loss  Instances       Size\n"
     ]
    },
    {
     "name": "stderr",
     "output_type": "stream",
     "text": [
      "     75/100         0G     0.5097     0.3129      1.009        134        256: 100%|██████████| 187/187 [03:39<00:00,  1.17s/it]\n",
      "                 Class     Images  Instances      Box(P          R      mAP50  mAP50-95): 100%|██████████| 21/21 [00:19<00:00,  1.06it/s]"
     ]
    },
    {
     "name": "stdout",
     "output_type": "stream",
     "text": [
      "                   all       1282       1879      0.999      0.999      0.995      0.935\n"
     ]
    },
    {
     "name": "stderr",
     "output_type": "stream",
     "text": [
      "\n"
     ]
    },
    {
     "name": "stdout",
     "output_type": "stream",
     "text": [
      "\n",
      "      Epoch    GPU_mem   box_loss   cls_loss   dfl_loss  Instances       Size\n"
     ]
    },
    {
     "name": "stderr",
     "output_type": "stream",
     "text": [
      "     76/100         0G     0.5084     0.3104      1.007        123        256: 100%|██████████| 187/187 [03:39<00:00,  1.17s/it]\n",
      "                 Class     Images  Instances      Box(P          R      mAP50  mAP50-95): 100%|██████████| 21/21 [00:19<00:00,  1.06it/s]"
     ]
    },
    {
     "name": "stdout",
     "output_type": "stream",
     "text": [
      "                   all       1282       1879      0.999      0.998      0.995      0.936\n"
     ]
    },
    {
     "name": "stderr",
     "output_type": "stream",
     "text": [
      "\n"
     ]
    },
    {
     "name": "stdout",
     "output_type": "stream",
     "text": [
      "\n",
      "      Epoch    GPU_mem   box_loss   cls_loss   dfl_loss  Instances       Size\n"
     ]
    },
    {
     "name": "stderr",
     "output_type": "stream",
     "text": [
      "     77/100         0G      0.511     0.3115      1.008        107        256: 100%|██████████| 187/187 [03:38<00:00,  1.17s/it]\n",
      "                 Class     Images  Instances      Box(P          R      mAP50  mAP50-95): 100%|██████████| 21/21 [00:19<00:00,  1.06it/s]"
     ]
    },
    {
     "name": "stdout",
     "output_type": "stream",
     "text": [
      "                   all       1282       1879          1      0.999      0.995      0.939\n"
     ]
    },
    {
     "name": "stderr",
     "output_type": "stream",
     "text": [
      "\n"
     ]
    },
    {
     "name": "stdout",
     "output_type": "stream",
     "text": [
      "\n",
      "      Epoch    GPU_mem   box_loss   cls_loss   dfl_loss  Instances       Size\n"
     ]
    },
    {
     "name": "stderr",
     "output_type": "stream",
     "text": [
      "     78/100         0G     0.5149     0.3144      1.009        103        256: 100%|██████████| 187/187 [03:39<00:00,  1.18s/it]\n",
      "                 Class     Images  Instances      Box(P          R      mAP50  mAP50-95): 100%|██████████| 21/21 [00:19<00:00,  1.07it/s]"
     ]
    },
    {
     "name": "stdout",
     "output_type": "stream",
     "text": [
      "                   all       1282       1879      0.999      0.998      0.995      0.938\n"
     ]
    },
    {
     "name": "stderr",
     "output_type": "stream",
     "text": [
      "\n"
     ]
    },
    {
     "name": "stdout",
     "output_type": "stream",
     "text": [
      "\n",
      "      Epoch    GPU_mem   box_loss   cls_loss   dfl_loss  Instances       Size\n"
     ]
    },
    {
     "name": "stderr",
     "output_type": "stream",
     "text": [
      "     79/100         0G     0.5073     0.3112      1.009        124        256: 100%|██████████| 187/187 [03:39<00:00,  1.17s/it]\n",
      "                 Class     Images  Instances      Box(P          R      mAP50  mAP50-95): 100%|██████████| 21/21 [00:19<00:00,  1.07it/s]"
     ]
    },
    {
     "name": "stdout",
     "output_type": "stream",
     "text": [
      "                   all       1282       1879      0.999      0.998      0.995      0.942\n"
     ]
    },
    {
     "name": "stderr",
     "output_type": "stream",
     "text": [
      "\n"
     ]
    },
    {
     "name": "stdout",
     "output_type": "stream",
     "text": [
      "\n",
      "      Epoch    GPU_mem   box_loss   cls_loss   dfl_loss  Instances       Size\n"
     ]
    },
    {
     "name": "stderr",
     "output_type": "stream",
     "text": [
      "     80/100         0G     0.5062     0.3088      1.005        139        256: 100%|██████████| 187/187 [03:38<00:00,  1.17s/it]\n",
      "                 Class     Images  Instances      Box(P          R      mAP50  mAP50-95): 100%|██████████| 21/21 [00:19<00:00,  1.06it/s]"
     ]
    },
    {
     "name": "stdout",
     "output_type": "stream",
     "text": [
      "                   all       1282       1879      0.999      0.999      0.995      0.942\n"
     ]
    },
    {
     "name": "stderr",
     "output_type": "stream",
     "text": [
      "\n"
     ]
    },
    {
     "name": "stdout",
     "output_type": "stream",
     "text": [
      "\n",
      "      Epoch    GPU_mem   box_loss   cls_loss   dfl_loss  Instances       Size\n"
     ]
    },
    {
     "name": "stderr",
     "output_type": "stream",
     "text": [
      "     81/100         0G     0.5018     0.3071      1.004        119        256: 100%|██████████| 187/187 [03:39<00:00,  1.18s/it]\n",
      "                 Class     Images  Instances      Box(P          R      mAP50  mAP50-95): 100%|██████████| 21/21 [00:19<00:00,  1.06it/s]"
     ]
    },
    {
     "name": "stdout",
     "output_type": "stream",
     "text": [
      "                   all       1282       1879      0.999      0.999      0.995      0.941\n"
     ]
    },
    {
     "name": "stderr",
     "output_type": "stream",
     "text": [
      "\n"
     ]
    },
    {
     "name": "stdout",
     "output_type": "stream",
     "text": [
      "\n",
      "      Epoch    GPU_mem   box_loss   cls_loss   dfl_loss  Instances       Size\n"
     ]
    },
    {
     "name": "stderr",
     "output_type": "stream",
     "text": [
      "     82/100         0G     0.4974     0.3047      1.002        122        256: 100%|██████████| 187/187 [03:39<00:00,  1.17s/it]\n",
      "                 Class     Images  Instances      Box(P          R      mAP50  mAP50-95): 100%|██████████| 21/21 [00:19<00:00,  1.05it/s]"
     ]
    },
    {
     "name": "stdout",
     "output_type": "stream",
     "text": [
      "                   all       1282       1879      0.999      0.999      0.995      0.936\n"
     ]
    },
    {
     "name": "stderr",
     "output_type": "stream",
     "text": [
      "\n"
     ]
    },
    {
     "name": "stdout",
     "output_type": "stream",
     "text": [
      "\n",
      "      Epoch    GPU_mem   box_loss   cls_loss   dfl_loss  Instances       Size\n"
     ]
    },
    {
     "name": "stderr",
     "output_type": "stream",
     "text": [
      "     83/100         0G     0.4973     0.3079      1.002        133        256: 100%|██████████| 187/187 [03:40<00:00,  1.18s/it]\n",
      "                 Class     Images  Instances      Box(P          R      mAP50  mAP50-95): 100%|██████████| 21/21 [00:19<00:00,  1.06it/s]"
     ]
    },
    {
     "name": "stdout",
     "output_type": "stream",
     "text": [
      "                   all       1282       1879      0.999      0.998      0.995      0.945\n"
     ]
    },
    {
     "name": "stderr",
     "output_type": "stream",
     "text": [
      "\n"
     ]
    },
    {
     "name": "stdout",
     "output_type": "stream",
     "text": [
      "\n",
      "      Epoch    GPU_mem   box_loss   cls_loss   dfl_loss  Instances       Size\n"
     ]
    },
    {
     "name": "stderr",
     "output_type": "stream",
     "text": [
      "     84/100         0G     0.4939      0.302      1.002        128        256: 100%|██████████| 187/187 [03:40<00:00,  1.18s/it]\n",
      "                 Class     Images  Instances      Box(P          R      mAP50  mAP50-95): 100%|██████████| 21/21 [00:19<00:00,  1.06it/s]"
     ]
    },
    {
     "name": "stdout",
     "output_type": "stream",
     "text": [
      "                   all       1282       1879          1      0.999      0.995      0.944\n"
     ]
    },
    {
     "name": "stderr",
     "output_type": "stream",
     "text": [
      "\n"
     ]
    },
    {
     "name": "stdout",
     "output_type": "stream",
     "text": [
      "\n",
      "      Epoch    GPU_mem   box_loss   cls_loss   dfl_loss  Instances       Size\n"
     ]
    },
    {
     "name": "stderr",
     "output_type": "stream",
     "text": [
      "     85/100         0G     0.4878     0.3005          1        135        256: 100%|██████████| 187/187 [03:39<00:00,  1.17s/it]\n",
      "                 Class     Images  Instances      Box(P          R      mAP50  mAP50-95): 100%|██████████| 21/21 [00:19<00:00,  1.07it/s]"
     ]
    },
    {
     "name": "stdout",
     "output_type": "stream",
     "text": [
      "                   all       1282       1879      0.999      0.998      0.995      0.938\n"
     ]
    },
    {
     "name": "stderr",
     "output_type": "stream",
     "text": [
      "\n"
     ]
    },
    {
     "name": "stdout",
     "output_type": "stream",
     "text": [
      "\n",
      "      Epoch    GPU_mem   box_loss   cls_loss   dfl_loss  Instances       Size\n"
     ]
    },
    {
     "name": "stderr",
     "output_type": "stream",
     "text": [
      "     86/100         0G     0.4938     0.3016          1        131        256: 100%|██████████| 187/187 [03:40<00:00,  1.18s/it]\n",
      "                 Class     Images  Instances      Box(P          R      mAP50  mAP50-95): 100%|██████████| 21/21 [00:19<00:00,  1.07it/s]"
     ]
    },
    {
     "name": "stdout",
     "output_type": "stream",
     "text": [
      "                   all       1282       1879      0.999      0.998      0.995      0.941\n"
     ]
    },
    {
     "name": "stderr",
     "output_type": "stream",
     "text": [
      "\n"
     ]
    },
    {
     "name": "stdout",
     "output_type": "stream",
     "text": [
      "\n",
      "      Epoch    GPU_mem   box_loss   cls_loss   dfl_loss  Instances       Size\n"
     ]
    },
    {
     "name": "stderr",
     "output_type": "stream",
     "text": [
      "     87/100         0G     0.4865     0.2974     0.9994        125        256: 100%|██████████| 187/187 [03:41<00:00,  1.19s/it]\n",
      "                 Class     Images  Instances      Box(P          R      mAP50  mAP50-95): 100%|██████████| 21/21 [00:19<00:00,  1.06it/s]"
     ]
    },
    {
     "name": "stdout",
     "output_type": "stream",
     "text": [
      "                   all       1282       1879      0.999      0.998      0.995      0.943\n"
     ]
    },
    {
     "name": "stderr",
     "output_type": "stream",
     "text": [
      "\n"
     ]
    },
    {
     "name": "stdout",
     "output_type": "stream",
     "text": [
      "\n",
      "      Epoch    GPU_mem   box_loss   cls_loss   dfl_loss  Instances       Size\n"
     ]
    },
    {
     "name": "stderr",
     "output_type": "stream",
     "text": [
      "     88/100         0G     0.4917        0.3      1.004        124        256: 100%|██████████| 187/187 [03:40<00:00,  1.18s/it]\n",
      "                 Class     Images  Instances      Box(P          R      mAP50  mAP50-95): 100%|██████████| 21/21 [00:19<00:00,  1.06it/s]"
     ]
    },
    {
     "name": "stdout",
     "output_type": "stream",
     "text": [
      "                   all       1282       1879      0.998      0.998      0.995      0.942\n"
     ]
    },
    {
     "name": "stderr",
     "output_type": "stream",
     "text": [
      "\n"
     ]
    },
    {
     "name": "stdout",
     "output_type": "stream",
     "text": [
      "\n",
      "      Epoch    GPU_mem   box_loss   cls_loss   dfl_loss  Instances       Size\n"
     ]
    },
    {
     "name": "stderr",
     "output_type": "stream",
     "text": [
      "     89/100         0G     0.4852     0.2977     0.9992        114        256: 100%|██████████| 187/187 [03:39<00:00,  1.17s/it]\n",
      "                 Class     Images  Instances      Box(P          R      mAP50  mAP50-95): 100%|██████████| 21/21 [00:19<00:00,  1.06it/s]"
     ]
    },
    {
     "name": "stdout",
     "output_type": "stream",
     "text": [
      "                   all       1282       1879      0.999      0.999      0.995      0.937\n"
     ]
    },
    {
     "name": "stderr",
     "output_type": "stream",
     "text": [
      "\n"
     ]
    },
    {
     "name": "stdout",
     "output_type": "stream",
     "text": [
      "\n",
      "      Epoch    GPU_mem   box_loss   cls_loss   dfl_loss  Instances       Size\n"
     ]
    },
    {
     "name": "stderr",
     "output_type": "stream",
     "text": [
      "     90/100         0G      0.486     0.2977     0.9996        125        256: 100%|██████████| 187/187 [03:40<00:00,  1.18s/it]\n",
      "                 Class     Images  Instances      Box(P          R      mAP50  mAP50-95): 100%|██████████| 21/21 [00:19<00:00,  1.06it/s]"
     ]
    },
    {
     "name": "stdout",
     "output_type": "stream",
     "text": [
      "                   all       1282       1879      0.999      0.999      0.995      0.939\n"
     ]
    },
    {
     "name": "stderr",
     "output_type": "stream",
     "text": [
      "\n"
     ]
    },
    {
     "name": "stdout",
     "output_type": "stream",
     "text": [
      "Closing dataloader mosaic\n",
      "\n",
      "      Epoch    GPU_mem   box_loss   cls_loss   dfl_loss  Instances       Size\n"
     ]
    },
    {
     "name": "stderr",
     "output_type": "stream",
     "text": [
      "     91/100         0G     0.3604     0.1945      0.978         44        256: 100%|██████████| 187/187 [03:37<00:00,  1.16s/it]\n",
      "                 Class     Images  Instances      Box(P          R      mAP50  mAP50-95): 100%|██████████| 21/21 [00:19<00:00,  1.06it/s]"
     ]
    },
    {
     "name": "stdout",
     "output_type": "stream",
     "text": [
      "                   all       1282       1879      0.998      0.998      0.995      0.935\n"
     ]
    },
    {
     "name": "stderr",
     "output_type": "stream",
     "text": [
      "\n"
     ]
    },
    {
     "name": "stdout",
     "output_type": "stream",
     "text": [
      "\n",
      "      Epoch    GPU_mem   box_loss   cls_loss   dfl_loss  Instances       Size\n"
     ]
    },
    {
     "name": "stderr",
     "output_type": "stream",
     "text": [
      "     92/100         0G      0.348     0.1801     0.9713         44        256: 100%|██████████| 187/187 [03:36<00:00,  1.16s/it]\n",
      "                 Class     Images  Instances      Box(P          R      mAP50  mAP50-95): 100%|██████████| 21/21 [00:20<00:00,  1.04it/s]"
     ]
    },
    {
     "name": "stdout",
     "output_type": "stream",
     "text": [
      "                   all       1282       1879      0.998      0.998      0.995      0.942\n"
     ]
    },
    {
     "name": "stderr",
     "output_type": "stream",
     "text": [
      "\n"
     ]
    },
    {
     "name": "stdout",
     "output_type": "stream",
     "text": [
      "\n",
      "      Epoch    GPU_mem   box_loss   cls_loss   dfl_loss  Instances       Size\n"
     ]
    },
    {
     "name": "stderr",
     "output_type": "stream",
     "text": [
      "     93/100         0G      0.338     0.1744     0.9602         46        256: 100%|██████████| 187/187 [03:37<00:00,  1.16s/it]\n",
      "                 Class     Images  Instances      Box(P          R      mAP50  mAP50-95): 100%|██████████| 21/21 [00:19<00:00,  1.06it/s]"
     ]
    },
    {
     "name": "stdout",
     "output_type": "stream",
     "text": [
      "                   all       1282       1879      0.999      0.999      0.995      0.945\n"
     ]
    },
    {
     "name": "stderr",
     "output_type": "stream",
     "text": [
      "\n"
     ]
    },
    {
     "name": "stdout",
     "output_type": "stream",
     "text": [
      "\n",
      "      Epoch    GPU_mem   box_loss   cls_loss   dfl_loss  Instances       Size\n"
     ]
    },
    {
     "name": "stderr",
     "output_type": "stream",
     "text": [
      "     94/100         0G     0.3325     0.1692     0.9625         45        256: 100%|██████████| 187/187 [03:37<00:00,  1.16s/it]\n",
      "                 Class     Images  Instances      Box(P          R      mAP50  mAP50-95): 100%|██████████| 21/21 [00:19<00:00,  1.06it/s]"
     ]
    },
    {
     "name": "stdout",
     "output_type": "stream",
     "text": [
      "                   all       1282       1879          1      0.998      0.995      0.946\n"
     ]
    },
    {
     "name": "stderr",
     "output_type": "stream",
     "text": [
      "\n"
     ]
    },
    {
     "name": "stdout",
     "output_type": "stream",
     "text": [
      "\n",
      "      Epoch    GPU_mem   box_loss   cls_loss   dfl_loss  Instances       Size\n"
     ]
    },
    {
     "name": "stderr",
     "output_type": "stream",
     "text": [
      "     95/100         0G     0.3299     0.1678     0.9605         50        256: 100%|██████████| 187/187 [03:37<00:00,  1.16s/it]\n",
      "                 Class     Images  Instances      Box(P          R      mAP50  mAP50-95): 100%|██████████| 21/21 [00:19<00:00,  1.06it/s]"
     ]
    },
    {
     "name": "stdout",
     "output_type": "stream",
     "text": [
      "                   all       1282       1879      0.999      0.999      0.995      0.943\n"
     ]
    },
    {
     "name": "stderr",
     "output_type": "stream",
     "text": [
      "\n"
     ]
    },
    {
     "name": "stdout",
     "output_type": "stream",
     "text": [
      "\n",
      "      Epoch    GPU_mem   box_loss   cls_loss   dfl_loss  Instances       Size\n"
     ]
    },
    {
     "name": "stderr",
     "output_type": "stream",
     "text": [
      "     96/100         0G     0.3263     0.1663     0.9563         51        256: 100%|██████████| 187/187 [03:37<00:00,  1.16s/it]\n",
      "                 Class     Images  Instances      Box(P          R      mAP50  mAP50-95): 100%|██████████| 21/21 [00:19<00:00,  1.06it/s]"
     ]
    },
    {
     "name": "stdout",
     "output_type": "stream",
     "text": [
      "                   all       1282       1879      0.999      0.998      0.995       0.94\n"
     ]
    },
    {
     "name": "stderr",
     "output_type": "stream",
     "text": [
      "\n"
     ]
    },
    {
     "name": "stdout",
     "output_type": "stream",
     "text": [
      "\n",
      "      Epoch    GPU_mem   box_loss   cls_loss   dfl_loss  Instances       Size\n"
     ]
    },
    {
     "name": "stderr",
     "output_type": "stream",
     "text": [
      "     97/100         0G     0.3206     0.1636     0.9509         48        256: 100%|██████████| 187/187 [03:38<00:00,  1.17s/it]\n",
      "                 Class     Images  Instances      Box(P          R      mAP50  mAP50-95): 100%|██████████| 21/21 [00:19<00:00,  1.05it/s]"
     ]
    },
    {
     "name": "stdout",
     "output_type": "stream",
     "text": [
      "                   all       1282       1879      0.999      0.999      0.995      0.944\n"
     ]
    },
    {
     "name": "stderr",
     "output_type": "stream",
     "text": [
      "\n"
     ]
    },
    {
     "name": "stdout",
     "output_type": "stream",
     "text": [
      "\n",
      "      Epoch    GPU_mem   box_loss   cls_loss   dfl_loss  Instances       Size\n"
     ]
    },
    {
     "name": "stderr",
     "output_type": "stream",
     "text": [
      "     98/100         0G     0.3177     0.1614     0.9546         47        256: 100%|██████████| 187/187 [03:37<00:00,  1.16s/it]\n",
      "                 Class     Images  Instances      Box(P          R      mAP50  mAP50-95): 100%|██████████| 21/21 [00:19<00:00,  1.05it/s]"
     ]
    },
    {
     "name": "stdout",
     "output_type": "stream",
     "text": [
      "                   all       1282       1879      0.999      0.999      0.995      0.944\n"
     ]
    },
    {
     "name": "stderr",
     "output_type": "stream",
     "text": [
      "\n"
     ]
    },
    {
     "name": "stdout",
     "output_type": "stream",
     "text": [
      "\n",
      "      Epoch    GPU_mem   box_loss   cls_loss   dfl_loss  Instances       Size\n"
     ]
    },
    {
     "name": "stderr",
     "output_type": "stream",
     "text": [
      "     99/100         0G     0.3183     0.1605     0.9529         44        256: 100%|██████████| 187/187 [03:37<00:00,  1.16s/it]\n",
      "                 Class     Images  Instances      Box(P          R      mAP50  mAP50-95): 100%|██████████| 21/21 [00:19<00:00,  1.06it/s]"
     ]
    },
    {
     "name": "stdout",
     "output_type": "stream",
     "text": [
      "                   all       1282       1879      0.999      0.998      0.995      0.942\n"
     ]
    },
    {
     "name": "stderr",
     "output_type": "stream",
     "text": [
      "\n"
     ]
    },
    {
     "name": "stdout",
     "output_type": "stream",
     "text": [
      "\n",
      "      Epoch    GPU_mem   box_loss   cls_loss   dfl_loss  Instances       Size\n"
     ]
    },
    {
     "name": "stderr",
     "output_type": "stream",
     "text": [
      "    100/100         0G     0.3158     0.1583     0.9505         46        256: 100%|██████████| 187/187 [03:37<00:00,  1.16s/it]\n",
      "                 Class     Images  Instances      Box(P          R      mAP50  mAP50-95): 100%|██████████| 21/21 [00:19<00:00,  1.06it/s]"
     ]
    },
    {
     "name": "stdout",
     "output_type": "stream",
     "text": [
      "                   all       1282       1879      0.999      0.998      0.995      0.944\n"
     ]
    },
    {
     "name": "stderr",
     "output_type": "stream",
     "text": [
      "\n"
     ]
    },
    {
     "name": "stdout",
     "output_type": "stream",
     "text": [
      "\n",
      "100 epochs completed in 6.665 hours.\n",
      "Optimizer stripped from runs\\detect\\yolo_face_mask\\weights\\last.pt, 6.2MB\n",
      "Optimizer stripped from runs\\detect\\yolo_face_mask\\weights\\best.pt, 6.2MB\n",
      "\n",
      "Validating runs\\detect\\yolo_face_mask\\weights\\best.pt...\n",
      "Ultralytics 8.3.128  Python-3.12.3 torch-2.5.1+cpu CPU (12th Gen Intel Core(TM) i5-12500H)\n",
      "Model summary (fused): 72 layers, 3,006,038 parameters, 0 gradients, 8.1 GFLOPs\n"
     ]
    },
    {
     "name": "stderr",
     "output_type": "stream",
     "text": [
      "                 Class     Images  Instances      Box(P          R      mAP50  mAP50-95): 100%|██████████| 21/21 [00:17<00:00,  1.20it/s]\n"
     ]
    },
    {
     "name": "stdout",
     "output_type": "stream",
     "text": [
      "                   all       1282       1879          1      0.998      0.995      0.946\n",
      "                  face       1282       1282          1      0.998      0.995      0.935\n",
      "                  mask        597        597          1      0.998      0.995      0.956\n",
      "Speed: 0.2ms preprocess, 10.1ms inference, 0.0ms loss, 0.2ms postprocess per image\n",
      "Results saved to \u001b[1mruns\\detect\\yolo_face_mask\u001b[0m\n",
      "\n",
      "=== Thông số huấn luyện ===\n",
      "Số epoch: 100\n",
      "Batch size: 32\n",
      "Kích thước ảnh: 256x256\n",
      "Thiết bị: cpu\n",
      "Tổng thời gian huấn luyện: 24036.50 giây\n",
      "Thời gian trung bình mỗi epoch: 240.37 giây\n"
     ]
    }
   ],
   "source": [
    "\n",
    "\n",
    "if torch.cuda.is_available():\n",
    "    device = 0  # Sử dụng GPU RTX 2050\n",
    "    print(f\"GPU khả dụng: {torch.cuda.get_device_name(0)}\")\n",
    "else:\n",
    "    device = \"cpu\"\n",
    "    print(\"Không tìm thấy GPU, sử dụng CPU.\")\n",
    "\n",
    "# Khởi tạo mô hình\n",
    "model = YOLO(\"yolov8n.pt\")  # Sử dụng YOLOv8 nano pretrained\n",
    "\n",
    "# Thông số huấn luyện\n",
    "train_params = {\n",
    "    \"data\": data_yaml,\n",
    "    \"epochs\": 100,  # Tăng epochs\n",
    "    \"imgsz\": 256,\n",
    "    \"batch\": 32,  # Tăng batch size\n",
    "    \"device\": device,\n",
    "    \"patience\": 20,  # Early stopping\n",
    "    \"name\": \"yolo_face_mask\",\n",
    "    \"optimizer\": \"AdamW\",  # Tối ưu hơn SGD\n",
    "    \"lr0\": 0.01,  # Learning rate ban đầu\n",
    "    \"lrf\": 0.1,  # Learning rate cuối\n",
    "    \"hsv_h\": 0.015,  # Tăng cường dữ liệu\n",
    "    \"hsv_s\": 0.7,\n",
    "    \"hsv_v\": 0.4,\n",
    "    \"degrees\": 10.0,\n",
    "    \"translate\": 0.1,\n",
    "    \"scale\": 0.5,\n",
    "    \"shear\": 2.0,\n",
    "    \"flipud\": 0.5,\n",
    "    \"fliplr\": 0.5,\n",
    "    \"mosaic\": 1.0,\n",
    "    \"mixup\": 0.0\n",
    "}\n",
    "\n",
    "# Huấn luyện và đo thời gian\n",
    "start_time = time.time()\n",
    "results = model.train(**train_params)\n",
    "end_time = time.time()\n",
    "training_time = end_time - start_time\n",
    "avg_epoch_time = training_time / train_params[\"epochs\"]\n",
    "\n",
    "# Hiển thị thông số huấn luyện\n",
    "print(\"\\n=== Thông số huấn luyện ===\")\n",
    "print(f\"Số epoch: {train_params['epochs']}\")\n",
    "print(f\"Batch size: {train_params['batch']}\")\n",
    "print(f\"Kích thước ảnh: {train_params['imgsz']}x{train_params['imgsz']}\")\n",
    "print(f\"Thiết bị: {device if device == 'cpu' else torch.cuda.get_device_name(device)}\")\n",
    "print(f\"Tổng thời gian huấn luyện: {training_time:.2f} giây\")\n",
    "print(f\"Thời gian trung bình mỗi epoch: {avg_epoch_time:.2f} giây\")"
   ]
  },
  {
   "cell_type": "markdown",
   "id": "e6993b6b",
   "metadata": {},
   "source": [
    "# Hiển thị loss và đánh giá mô hình"
   ]
  },
  {
   "cell_type": "code",
   "execution_count": null,
   "id": "26e1e5f0",
   "metadata": {},
   "outputs": [
    {
     "name": "stdout",
     "output_type": "stream",
     "text": [
      "\n",
      "Loss cuối cùng:\n",
      "Box loss: 0.3158\n",
      "Cls loss: 0.1583\n",
      "Dfl loss: 0.9505\n",
      "\n",
      "=== Đánh giá trên tập validation ===\n",
      "Ultralytics 8.3.128  Python-3.12.3 torch-2.5.1+cpu CPU (12th Gen Intel Core(TM) i5-12500H)\n",
      "Model summary (fused): 72 layers, 3,006,038 parameters, 0 gradients, 8.1 GFLOPs\n",
      "\u001b[34m\u001b[1mval: \u001b[0mFast image access  (ping: 0.00.0 ms, read: 590.0285.3 MB/s, size: 49.7 KB)\n"
     ]
    },
    {
     "name": "stderr",
     "output_type": "stream",
     "text": [
      "\u001b[34m\u001b[1mval: \u001b[0mScanning D:\\Bi_data\\21031271\\ThiGiacMayTinh\\Project_Cuoi_Ky\\FB5\\Data\\val_images.cache... 1282 images, 0 backgrounds, 0 corrupt: 100%|██████████| 1282/1282 [00:00<?, ?it/s]\n",
      "                 Class     Images  Instances      Box(P          R      mAP50  mAP50-95): 100%|██████████| 41/41 [00:18<00:00,  2.26it/s]\n"
     ]
    },
    {
     "name": "stdout",
     "output_type": "stream",
     "text": [
      "                   all       1282       1879          1      0.998      0.995      0.946\n",
      "                  face       1282       1282          1      0.998      0.995      0.935\n",
      "                  mask        597        597          1      0.998      0.995      0.956\n",
      "Speed: 0.2ms preprocess, 10.9ms inference, 0.0ms loss, 0.2ms postprocess per image\n",
      "Results saved to \u001b[1mruns\\detect\\yolo_face_mask2\u001b[0m\n",
      "\n",
      "=== Đánh giá trên tập test ===\n",
      "Ultralytics 8.3.128  Python-3.12.3 torch-2.5.1+cpu CPU (12th Gen Intel Core(TM) i5-12500H)\n",
      "\u001b[34m\u001b[1mval: \u001b[0mFast image access  (ping: 0.00.0 ms, read: 4.11.4 MB/s, size: 50.3 KB)\n"
     ]
    },
    {
     "name": "stderr",
     "output_type": "stream",
     "text": [
      "\u001b[34m\u001b[1mval: \u001b[0mScanning D:\\Bi_data\\21031271\\ThiGiacMayTinh\\Project_Cuoi_Ky\\FB5\\Data\\test_images... 1283 images, 0 backgrounds, 0 corrupt: 100%|██████████| 1283/1283 [00:02<00:00, 474.22it/s]"
     ]
    },
    {
     "name": "stdout",
     "output_type": "stream",
     "text": [
      "\u001b[34m\u001b[1mval: \u001b[0mNew cache created: D:\\Bi_data\\21031271\\ThiGiacMayTinh\\Project_Cuoi_Ky\\FB5\\Data\\test_images.cache\n"
     ]
    },
    {
     "name": "stderr",
     "output_type": "stream",
     "text": [
      "\n",
      "                 Class     Images  Instances      Box(P          R      mAP50  mAP50-95): 100%|██████████| 41/41 [00:17<00:00,  2.33it/s]\n"
     ]
    },
    {
     "name": "stdout",
     "output_type": "stream",
     "text": [
      "                   all       1283       1926      0.999      0.999      0.995      0.946\n",
      "                  face       1283       1283      0.999      0.999      0.995      0.933\n",
      "                  mask        643        643      0.999          1      0.995      0.959\n",
      "Speed: 0.2ms preprocess, 10.5ms inference, 0.0ms loss, 0.2ms postprocess per image\n",
      "Results saved to \u001b[1mruns\\detect\\yolo_face_mask3\u001b[0m\n",
      "\n",
      "Chỉ số đánh giá (Validation):\n",
      "mAP@0.5: 0.9950\n",
      "mAP@0.5:0.95: 0.9456\n",
      "Lớp face:\n",
      "  Precision: 1.0000\n",
      "  Recall: 0.9978\n",
      "  F1-score: 0.9989\n",
      "Lớp mask:\n",
      "  Precision: 0.9995\n",
      "  Recall: 0.9983\n",
      "  F1-score: 0.9989\n",
      "\n",
      "Chỉ số đánh giá (Test):\n",
      "mAP@0.5: 0.9950\n",
      "mAP@0.5:0.95: 0.9464\n",
      "Lớp face:\n",
      "  Precision: 0.9992\n",
      "  Recall: 0.9986\n",
      "  F1-score: 0.9989\n",
      "Lớp mask:\n",
      "  Precision: 0.9991\n",
      "  Recall: 1.0000\n",
      "  F1-score: 0.9995\n"
     ]
    }
   ],
   "source": [
    "\n",
    "print(\"\\nLoss cuối cùng:\")\n",
    "run_dir = results.save_dir\n",
    "csv_path = os.path.join(run_dir, \"results.csv\")\n",
    "if os.path.exists(csv_path):\n",
    "    df = pd.read_csv(csv_path)\n",
    "    last_epoch = df.iloc[-1]\n",
    "    print(f\"Box loss: {last_epoch.get('train/box_loss', 'N/A'):.4f}\")\n",
    "    print(f\"Cls loss: {last_epoch.get('train/cls_loss', 'N/A'):.4f}\")\n",
    "    print(f\"Dfl loss: {last_epoch.get('train/dfl_loss', 'N/A'):.4f}\")\n",
    "else:\n",
    "    print(\"Không tìm thấy results.csv.\")\n",
    "\n",
    "# Đánh giá mô hình trên tập validation\n",
    "print(\"\\n=== Đánh giá trên tập validation ===\")\n",
    "val_results = model.val(data=data_yaml, imgsz=train_params[\"imgsz\"], batch=train_params[\"batch\"], device=train_params[\"device\"])\n",
    "\n",
    "# Đánh giá mô hình trên tập test\n",
    "print(\"\\n=== Đánh giá trên tập test ===\")\n",
    "test_results = model.val(data=data_yaml, imgsz=train_params[\"imgsz\"], batch=train_params[\"batch\"], device=train_params[\"device\"], split=\"test\")\n",
    "\n",
    "# Hiển thị chỉ số đánh giá\n",
    "print(\"\\nChỉ số đánh giá (Validation):\")\n",
    "print(f\"mAP@0.5: {val_results.box.map50:.4f}\")\n",
    "print(f\"mAP@0.5:0.95: {val_results.box.map:.4f}\")\n",
    "for i, (p, r, f1) in enumerate(zip(val_results.box.p, val_results.box.r, val_results.box.f1)):\n",
    "    print(f\"Lớp {val_results.names[i]}:\")\n",
    "    print(f\"  Precision: {p:.4f}\")\n",
    "    print(f\"  Recall: {r:.4f}\")\n",
    "    print(f\"  F1-score: {f1:.4f}\")\n",
    "\n",
    "print(\"\\nChỉ số đánh giá (Test):\")\n",
    "print(f\"mAP@0.5: {test_results.box.map50:.4f}\")\n",
    "print(f\"mAP@0.5:0.95: {test_results.box.map:.4f}\")\n",
    "for i, (p, r, f1) in enumerate(zip(test_results.box.p, test_results.box.r, test_results.box.f1)):\n",
    "    print(f\"Lớp {test_results.names[i]}:\")\n",
    "    print(f\"  Precision: {p:.4f}\")\n",
    "    print(f\"  Recall: {r:.4f}\")\n",
    "    print(f\"  F1-score: {f1:.4f}\")\n"
   ]
  },
  {
   "cell_type": "markdown",
   "id": "6846437a",
   "metadata": {},
   "source": [
    "# Hiển thị biểu đồ đánh giá"
   ]
  },
  {
   "cell_type": "code",
   "execution_count": null,
   "id": "cdd70822",
   "metadata": {},
   "outputs": [
    {
     "name": "stdout",
     "output_type": "stream",
     "text": [
      "\n",
      "=== Hiển thị biểu đồ ===\n"
     ]
    },
    {
     "data": {
      "text/plain": [
       "<Figure size 800x600 with 1 Axes>"
      ]
     },
     "metadata": {},
     "output_type": "display_data"
    },
    {
     "data": {
      "text/plain": [
       "<Figure size 800x600 with 1 Axes>"
      ]
     },
     "metadata": {},
     "output_type": "display_data"
    },
    {
     "data": {
      "text/plain": [
       "<Figure size 800x600 with 1 Axes>"
      ]
     },
     "metadata": {},
     "output_type": "display_data"
    },
    {
     "data": {
      "text/plain": [
       "<Figure size 800x600 with 1 Axes>"
      ]
     },
     "metadata": {},
     "output_type": "display_data"
    }
   ],
   "source": [
    "\n",
    "print(\"\\n=== Hiển thị biểu đồ ===\")\n",
    "plot_files = [\n",
    "    \"confusion_matrix.png\",\n",
    "    \"PR_curve.png\",\n",
    "    \"F1_curve.png\",\n",
    "    \"results.png\"\n",
    "]\n",
    "\n",
    "for plot_file in plot_files:\n",
    "    plot_path = os.path.join(run_dir, plot_file)\n",
    "    if os.path.exists(plot_path):\n",
    "        img = np.array(Image.open(plot_path))\n",
    "        plt.figure(figsize=(8, 6))\n",
    "        plt.imshow(img)\n",
    "        plt.axis('off')\n",
    "        plt.title(plot_file)\n",
    "        plt.show()\n",
    "    else:\n",
    "        print(f\"Không tìm thấy: {plot_path}\")"
   ]
  },
  {
   "cell_type": "markdown",
   "id": "cff2d793",
   "metadata": {},
   "source": [
    "# Dự đoán trên ảnh mẫu từ tập test"
   ]
  },
  {
   "cell_type": "code",
   "execution_count": null,
   "id": "f662c8cc",
   "metadata": {},
   "outputs": [
    {
     "name": "stdout",
     "output_type": "stream",
     "text": [
      "\n",
      "=== Dự đoán trên 5 ảnh mẫu từ tập test ===\n",
      "\n",
      "image 1/1 D:\\Bi_data\\21031271\\ThiGiacMayTinh\\Project_Cuoi_Ky\\FB5\\Data\\test_images\\mask_4037_surgical_green.png: 256x256 1 face, 1 mask, 59.0ms\n",
      "Speed: 1.8ms preprocess, 59.0ms inference, 2.0ms postprocess per image at shape (1, 3, 256, 256)\n"
     ]
    },
    {
     "data": {
      "text/plain": [
       "<Figure size 600x600 with 1 Axes>"
      ]
     },
     "metadata": {},
     "output_type": "display_data"
    },
    {
     "name": "stdout",
     "output_type": "stream",
     "text": [
      "\n",
      "image 1/1 D:\\Bi_data\\21031271\\ThiGiacMayTinh\\Project_Cuoi_Ky\\FB5\\Data\\test_images\\no_mask_without_mask_1547.png: 256x256 1 face, 23.6ms\n",
      "Speed: 0.6ms preprocess, 23.6ms inference, 0.7ms postprocess per image at shape (1, 3, 256, 256)\n"
     ]
    },
    {
     "data": {
      "text/plain": [
       "<Figure size 600x600 with 1 Axes>"
      ]
     },
     "metadata": {},
     "output_type": "display_data"
    },
    {
     "name": "stdout",
     "output_type": "stream",
     "text": [
      "\n",
      "image 1/1 D:\\Bi_data\\21031271\\ThiGiacMayTinh\\Project_Cuoi_Ky\\FB5\\Data\\test_images\\no_mask_2342.png: 256x256 1 face, 27.0ms\n",
      "Speed: 0.5ms preprocess, 27.0ms inference, 0.7ms postprocess per image at shape (1, 3, 256, 256)\n"
     ]
    },
    {
     "data": {
      "text/plain": [
       "<Figure size 600x600 with 1 Axes>"
      ]
     },
     "metadata": {},
     "output_type": "display_data"
    },
    {
     "name": "stdout",
     "output_type": "stream",
     "text": [
      "\n",
      "image 1/1 D:\\Bi_data\\21031271\\ThiGiacMayTinh\\Project_Cuoi_Ky\\FB5\\Data\\test_images\\no_mask_1421.png: 256x256 1 face, 26.7ms\n",
      "Speed: 0.5ms preprocess, 26.7ms inference, 0.7ms postprocess per image at shape (1, 3, 256, 256)\n"
     ]
    },
    {
     "data": {
      "text/plain": [
       "<Figure size 600x600 with 1 Axes>"
      ]
     },
     "metadata": {},
     "output_type": "display_data"
    },
    {
     "name": "stdout",
     "output_type": "stream",
     "text": [
      "\n",
      "image 1/1 D:\\Bi_data\\21031271\\ThiGiacMayTinh\\Project_Cuoi_Ky\\FB5\\Data\\test_images\\mask_without_mask_1929_N95.png: 256x256 1 face, 1 mask, 28.2ms\n",
      "Speed: 0.6ms preprocess, 28.2ms inference, 0.7ms postprocess per image at shape (1, 3, 256, 256)\n"
     ]
    },
    {
     "data": {
      "text/plain": [
       "<Figure size 600x600 with 1 Axes>"
      ]
     },
     "metadata": {},
     "output_type": "display_data"
    }
   ],
   "source": [
    "\n",
    "print(\"\\n=== Dự đoán trên 5 ảnh mẫu từ tập test ===\")\n",
    "test_images = [f for f in os.listdir(test_img_dir) if f.endswith('.png')]\n",
    "sample_images = random.sample(test_images, min(5, len(test_images)))\n",
    "\n",
    "for img_name in sample_images:\n",
    "    img_path = os.path.join(test_img_dir, img_name)\n",
    "    results = model.predict(img_path, imgsz=256, conf=0.5, device=device)\n",
    "    \n",
    "    # Hiển thị ảnh với bounding box\n",
    "    img = cv2.imread(img_path)\n",
    "    img = cv2.cvtColor(img, cv2.COLOR_BGR2RGB)\n",
    "    \n",
    "    for result in results:\n",
    "        boxes = result.boxes.xyxy.cpu().numpy()\n",
    "        classes = result.boxes.cls.cpu().numpy()\n",
    "        confidences = result.boxes.conf.cpu().numpy()\n",
    "        \n",
    "        for box, cls, conf in zip(boxes, classes, confidences):\n",
    "            x1, y1, x2, y2 = map(int, box)\n",
    "            label = f\"{result.names[int(cls)]} {conf:.2f}\"\n",
    "            color = (0, 255, 0) if cls == 0 else (0, 0, 255)  # Xanh cho face, đỏ cho mask\n",
    "            cv2.rectangle(img, (x1, y1), (x2, y2), color, 2)\n",
    "            cv2.putText(img, label, (x1, y1 - 10), cv2.FONT_HERSHEY_SIMPLEX, 0.5, color, 2)\n",
    "    \n",
    "    plt.figure(figsize=(6, 6))\n",
    "    plt.imshow(img)\n",
    "    plt.title(f\"Dự đoán: {img_name}\")\n",
    "    plt.axis('off')\n",
    "    plt.show()"
   ]
  },
  {
   "cell_type": "code",
   "execution_count": 11,
   "id": "36bce7d3",
   "metadata": {},
   "outputs": [
    {
     "name": "stdout",
     "output_type": "stream",
     "text": [
      "\n",
      "Huấn luyện, đánh giá và dự đoán hoàn tất! Mô hình được lưu tại: D:/Bi_data/21031271/ThiGiacMayTinh/Project_Cuoi_Ky/FB5/Data\\MODEL\\yolo_face_mask.pt\n"
     ]
    }
   ],
   "source": [
    "# Cell 11: Lưu mô hình\n",
    "model_path = os.path.join(model_dir, \"yolo_face_mask.pt\")\n",
    "model.save(model_path)\n",
    "print(f\"\\nHuấn luyện, đánh giá và dự đoán hoàn tất! Mô hình được lưu tại: {model_path}\")"
   ]
  }
 ],
 "metadata": {
  "kernelspec": {
   "display_name": "base",
   "language": "python",
   "name": "python3"
  },
  "language_info": {
   "codemirror_mode": {
    "name": "ipython",
    "version": 3
   },
   "file_extension": ".py",
   "mimetype": "text/x-python",
   "name": "python",
   "nbconvert_exporter": "python",
   "pygments_lexer": "ipython3",
   "version": "3.12.3"
  }
 },
 "nbformat": 4,
 "nbformat_minor": 5
}
